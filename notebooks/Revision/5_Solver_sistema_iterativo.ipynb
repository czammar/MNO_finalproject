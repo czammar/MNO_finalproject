{
  "nbformat": 4,
  "nbformat_minor": 0,
  "metadata": {
    "colab": {
      "name": "5_Solver_sistema_iterativo",
      "provenance": [],
      "collapsed_sections": [
        "_jXzC354QsEC",
        "MKZRTVHQQvuM",
        "FpZFj9q6Q022",
        "3lwwOvMtQ-r_",
        "g794nWiDRD3I",
        "behXLDpARJ-d",
        "4wowIcmFRPiE",
        "6sqgkmd0Rb3n"
      ]
    },
    "kernelspec": {
      "name": "python3",
      "display_name": "Python 3"
    },
    "accelerator": "GPU"
  },
  "cells": [
    {
      "cell_type": "code",
      "metadata": {
        "id": "jp1-0qDTI5If",
        "colab_type": "code",
        "outputId": "d0a51870-a80e-4995-bdfb-2b635075c968",
        "colab": {
          "base_uri": "https://localhost:8080/",
          "height": 237
        }
      },
      "source": [
        "#Librerias necesarias\n",
        "!curl https://colab.chainer.org/install | sh -"
      ],
      "execution_count": 0,
      "outputs": [
        {
          "output_type": "stream",
          "text": [
            "  % Total    % Received % Xferd  Average Speed   Time    Time     Time  Current\n",
            "                                 Dload  Upload   Total   Spent    Left  Speed\n",
            "\r  0     0    0     0    0     0      0      0 --:--:-- --:--:-- --:--:--     0\r100  1580  100  1580    0     0   4293      0 --:--:-- --:--:-- --:--:--  4293\n",
            "+ apt -y -q install cuda-libraries-dev-10-0\n",
            "Reading package lists...\n",
            "Building dependency tree...\n",
            "Reading state information...\n",
            "cuda-libraries-dev-10-0 is already the newest version (10.0.130-1).\n",
            "0 upgraded, 0 newly installed, 0 to remove and 31 not upgraded.\n",
            "+ pip install -q cupy-cuda100  chainer \n",
            "+ set +ex\n",
            "Installation succeeded!\n"
          ],
          "name": "stdout"
        }
      ]
    },
    {
      "cell_type": "markdown",
      "metadata": {
        "id": "QF-1O51iOPBG",
        "colab_type": "text"
      },
      "source": [
        "# Código revisado"
      ]
    },
    {
      "cell_type": "code",
      "metadata": {
        "id": "ztDFMD8tJDn4",
        "colab_type": "code",
        "colab": {}
      },
      "source": [
        "import numpy as np\n",
        "import cupy as cp\n",
        "import solver.extraer_datos_yahoo as extrae\n",
        "import solver.funciones_auxiliares as aux\n",
        "import solver.line_search as line\n",
        "import solver.modelo_markowitz as mkv\n",
        "import solver.utils as utils\n",
        "import solver.optimizacion_numerica as opt\n",
        "#from utils import inc_index, dec_index, compute_error, norm_residual, condicion_cupy\n",
        "#from line_search import line_search_by_backtracking, line_search_for_residual_by_backtracking"
      ],
      "execution_count": 0,
      "outputs": []
    },
    {
      "cell_type": "markdown",
      "metadata": {
        "id": "_jXzC354QsEC",
        "colab_type": "text"
      },
      "source": [
        "## Código módulos"
      ]
    },
    {
      "cell_type": "markdown",
      "metadata": {
        "id": "MKZRTVHQQvuM",
        "colab_type": "text"
      },
      "source": [
        "### Extraer datos\n"
      ]
    },
    {
      "cell_type": "code",
      "metadata": {
        "id": "0cMh2o_KQ3CC",
        "colab_type": "code",
        "colab": {}
      },
      "source": [
        "import fix_yahoo_finance as yf\n",
        "\n",
        "def extraer_datos_yahoo(stocks, start='2015-01-01', end='2020-04-30'):\n",
        "  '''\n",
        "  Funcion para extraer precios al cierre de las acciones mediante yahoo finance de 2015-01-01 a 2020-04-30\n",
        "\n",
        "  params: stocks    lista de acciones de las cuales se desea obtener el precio\n",
        "          start     fecha inicial\n",
        "          end       fecha final\n",
        "\n",
        "  return: base      Dataframe de precios por acción (columnas) y día (filas)\n",
        "  '''\n",
        "  df_c = yf.download(stocks, start=start, end=end).Close\n",
        "  base = df_c['AAPL'].dropna().to_frame()\n",
        "  for i in range(0,50):\n",
        "      base = base.join(df_c.iloc[:,i].to_frame(), lsuffix='_caller', rsuffix='_other')\n",
        "  base = base.drop(columns=['AAPL_caller'])\n",
        "  base = base.rename(columns={\"AAPL_other\": \"AAPL\"})\n",
        "  base = base.fillna(method='ffill')\n",
        "  base = base.fillna(method='bfill')\n",
        "  return base\n"
      ],
      "execution_count": 0,
      "outputs": []
    },
    {
      "cell_type": "markdown",
      "metadata": {
        "id": "FpZFj9q6Q022",
        "colab_type": "text"
      },
      "source": [
        "### Funciones auxiliares"
      ]
    },
    {
      "cell_type": "code",
      "metadata": {
        "id": "ORD4GT5VQ90K",
        "colab_type": "code",
        "colab": {}
      },
      "source": [
        "import cupy as cp\n",
        "\n",
        "def calcular_rendimiento_vector(x):\n",
        "  \"\"\"\n",
        "  Función para calcular el rendimiento esperado\n",
        "\n",
        "  params:\n",
        "      x     vector de precios\n",
        "  \n",
        "  return:\n",
        "      r_est rendimiento esperado diario\n",
        "  \"\"\"\n",
        "\n",
        "  # Definimos precios iniciales y finales como arreglo alojado en la gpu\n",
        "  x_o = cp.asarray(x)\n",
        "  x_f = x_o[1:]\n",
        "\n",
        "  # Calculamos los rendimientos diarios\n",
        "  r = cp.log(x_f/x_o[:-1])\n",
        "\n",
        "  return r\n",
        "\n",
        "def calcular_rendimiento(X):\n",
        "  \"\"\"\n",
        "  Función para calcular el rendimiento esperado para un conjunto de acciones\n",
        "\n",
        "  params:\n",
        "      X      matriz mxn de precios, donde:\n",
        "             m es el número de observaciones y\n",
        "             n el número de acciones\n",
        "  \n",
        "  return:\n",
        "      r_est rvector de rendimientos esperados\n",
        "  \"\"\"\n",
        "  m,n = X.shape\n",
        "  r_est = cp.zeros(n)\n",
        "  X = cp.asarray(X)\n",
        "\n",
        "  for i in range(n):\n",
        "    r_est[i] = calcular_rendimiento_vector(X[:,i]).mean()\n",
        "\n",
        "  return 264*r_est\n",
        "\n",
        "def calcular_varianza(X):\n",
        "\n",
        "  \"\"\"\n",
        "  Función para calcular el la matriz de varianzas y covarianzas para un conjunto de acciones\n",
        "\n",
        "  params:\n",
        "      X      matriz mxn de precios, donde:\n",
        "             m es el número de observaciones y\n",
        "               n el número de acciones\n",
        "  \n",
        "  return:\n",
        "      S  matriz de varianzas y covarianzas\n",
        "  \"\"\"\n",
        "  m,n=X.shape\n",
        "  X = cp.asarray(X)\n",
        "\n",
        "  X_m = cp.zeros((m-1,n))\n",
        "\n",
        "  for i in range(n):\n",
        "    X_m[:,i] = calcular_rendimiento_vector(X[:,i]) - calcular_rendimiento_vector(X[:,i]).mean()\n",
        "\n",
        "  S = (cp.transpose(X_m)@X_m)/(m-2)\n",
        "\n",
        "  return S\n",
        "\n",
        "\n"
      ],
      "execution_count": 0,
      "outputs": []
    },
    {
      "cell_type": "markdown",
      "metadata": {
        "id": "3lwwOvMtQ-r_",
        "colab_type": "text"
      },
      "source": [
        "### Modelo Markovitz"
      ]
    },
    {
      "cell_type": "code",
      "metadata": {
        "id": "yC6kWejYRBet",
        "colab_type": "code",
        "colab": {}
      },
      "source": [
        "import cupy as cp\n",
        "import pandas as pd\n",
        "\n",
        "def formar_vectores(mu, Sigma):\n",
        "  '''\n",
        "  Calcula las cantidades u = \\Sigma^{-1}  \\mu y v := \\Sigma^{-1} \\cdot 1 del problema de Markowitz\n",
        "\n",
        "  Args:\n",
        "    mu (cupy array, vector): valores medios esperados de activos (dimension n)\n",
        "    Sigma (cupy array, matriz): matriz de covarianzas asociada a activos (dimension n x n)\n",
        "\n",
        "  Return:\n",
        "    u (cupy array, escalar): vector dado por \\cdot Sigma^-1 \\cdot mu (dimension n)\n",
        "    v (cupy array, escalar): vector dado por Sigma^-1 \\cdot 1 (dimension n)\n",
        "  '''\n",
        "\n",
        "  # Vector auxiliar con entradas igual a 1\n",
        "  n = Sigma.shape[0]\n",
        "  ones_vector = cp.ones(n)\n",
        "\n",
        "  # Formamos vector \\cdot Sigma^-1 mu y Sigm^-1 1\n",
        "  # Nota: \n",
        "  #   1) u= Sigma^-1 \\cdot mu se obtiene resolviendo  Sigma u = mu\n",
        "  #   2) v= Sigma^-1 \\cdot 1 se obtiene resolviendo  Sigma v = 1\n",
        "\n",
        "  # Obtiene vectores de interes\n",
        "  u = cp.linalg.solve(Sigma, mu)\n",
        "  u = u.transpose() # correcion de expresion de array\n",
        "  v = cp.linalg.solve(Sigma, ones_vector)\n",
        "\n",
        "  return u , v\n",
        "\n",
        "def formar_abc(mu, Sigma):\n",
        "  '''\n",
        "  Calcula las cantidades A, B y C del diagrama de flujo del problema de Markowitz\n",
        "\n",
        "  Args:\n",
        "    mu (cupy array, vector): valores medios esperados de activos (dimension n)\n",
        "    Sigma (cupy array, matriz): matriz de covarianzas asociada a activos (dimension n x n)\n",
        "\n",
        "  Return:\n",
        "    A (cupy array, escalar): escalar dado por mu^t \\cdot Sigma^-1 \\cdot mu\n",
        "    B (cupy array, escalar): escalar dado por 1^t \\cdot Sigma^-1 \\cdot 1\n",
        "    C (cupy array, escalar): escalar dado por 1^t \\cdot Sigma^-1 \\cdot mu\n",
        "  '''\n",
        "\n",
        "  # Vector auxiliar con entradas igual a 1\n",
        "  n = Sigma.shape[0]\n",
        "  ones_vector = cp.ones(n)\n",
        "\n",
        "  # Formamos vector \\cdot Sigma^-1 mu y Sigm^-1 1\n",
        "  # Nota: \n",
        "  #   1) u= Sigma^-1 \\cdot mu se obtiene resolviendo  Sigma u = mu\n",
        "  #   2) v= Sigma^-1 \\cdot 1 se obtiene resolviendo  Sigma v = 1\n",
        "\n",
        "  u, v = formar_vectores(mu, Sigma)\n",
        "\n",
        "  # Obtiene escalares de interes\n",
        "  A = mu.transpose()@u\n",
        "  B = ones_vector.transpose()@v\n",
        "  C = ones_vector.transpose()@u\n",
        "\n",
        "  return A, B, C\n",
        "\n",
        "\n",
        "def delta(A,B,C):\n",
        "  '''\n",
        "  Calcula las cantidad Delta = AB-C^2 del diagrama de flujo del problema de Markowitz\n",
        "\n",
        "  Args:\n",
        "    A (cupy array, escalar): escalar dado por mu^t \\cdot Sigma^-1 \\cdot mu\n",
        "    B (cupy array, escalar): escalar dado por 1^t \\cdot Sigma^-1 \\cdot 1\n",
        "    C (cupy array, escalar): escalar dado por 1^t \\cdot Sigma^-1 \\cdot mu\n",
        "\n",
        "  Return:\n",
        "    Delta (cupy array, escalar): escalar dado \\mu^t \\cdot \\Sigma^{-1} \\cdot \\mu\n",
        "  '''\n",
        "  Delta = A*B-C**2\n",
        "\n",
        "  return Delta\n",
        "\n",
        "\n",
        "def formar_omegas(r, mu, Sigma):\n",
        "  '''\n",
        "  Calcula las cantidades w_o y w_ del problema de Markowitz\n",
        "\n",
        "  Args:\n",
        "    r (escalar) : retorno esperado por el inversionista\n",
        "    mu (cupy array, vector): valores medios esperados de activos (dimension n)\n",
        "    Sigma (cupy array, matriz): matriz de covarianzas asociada a activos (dimension n x n)\n",
        "\n",
        "  Return:\n",
        "    w_0 (cupy escalar, matriz): escalar dado por \n",
        "          w_0 = \\frac{1}{\\Delta} (B \\Sigma^{-1} \\hat{\\mu}- C\\Sigma^{-1} 1) \n",
        "    w_1 (cupy escalar, vector): escalar dado por \n",
        "         w_1 = \\frac{1}{\\Delta} (C \\Sigma^{-1} \\hat{\\mu}- A\\Sigma^{-1} 1)\n",
        "  '''\n",
        "  # Obtenemos u = Sigma^{-1} \\hat{\\mu}, v = \\Sigma^{-1} 1\n",
        "  u, v = formar_vectores(mu, Sigma)\n",
        "  # Escalares relevantes\n",
        "  A, B, C = formar_abc(mu, Sigma)\n",
        "  Delta = delta(A,B,C)\n",
        "  # Formamos w_0 y w_1\n",
        "  w_0 = (1/Delta)*(r*B-C)\n",
        "  w_1 = (1/Delta)*(A-C*r)\n",
        "\n",
        "  return w_0, w_1\n",
        "\n",
        "def markowitz(r, mu, Sigma):\n",
        "  '''\n",
        "  Calcula las cantidades w_o y w_ del problema de Markowitz\n",
        "\n",
        "  Args:\n",
        "    r (escalar) : retorno esperado por el inversionista\n",
        "    mu (cupy array, vector): valores medios esperados de activos (dimension n)\n",
        "    Sigma (cupy array, matriz): matriz de covarianzas asociada a activos (dimension n x n)\n",
        "\n",
        "  Return:\n",
        "    w (cupy array, vector): vector de pesos que minimizan la varianza del portfolio\n",
        "  '''\n",
        "  # Obtenemos u = Sigma^{-1} \\hat{\\mu}, v = \\Sigma^{-1} 1\n",
        "  u, v = formar_vectores(mu, Sigma)\n",
        "\n",
        "  # Formamos w_0 y w_1\n",
        "  w_0, w_1 = formar_omegas(r, mu, Sigma)\n",
        "\n",
        "  return w_0*u+w_1*v\n",
        "\n",
        "def markowitz_df(r, mu, Sigma, stocks):\n",
        "  '''\n",
        "  Crea data frame de la función markowitz relacionando los pesos con las acciones\n",
        "\n",
        "  Args:\n",
        "    r (escalar) : retorno esperado por el inversionista\n",
        "    mu (cupy array, vector): valores medios esperados de activos (dimension n)\n",
        "    Sigma (cupy array, matriz): matriz de covarianzas asociada a activos (dimension n x n)\n",
        "    stocks (lista): Códigos bursátiles de las acciones a evaluar\n",
        "\n",
        "  Return:\n",
        "    df (DataFrame): Data Frame con acciones como índices y los pesos ordenados correspondientes\n",
        "  '''\n",
        "\n",
        "  aux = markowitz(r, mu, Sigma)\n",
        "  df =pd.DataFrame( cp.asnumpy(aux), columns = ['pesos'])\n",
        "  df[\"stocks\"]=stocks\n",
        "  df = df.sort_values(by=['pesos'], ascending=False)\n",
        "  return df\n",
        "\n",
        "\n"
      ],
      "execution_count": 0,
      "outputs": []
    },
    {
      "cell_type": "markdown",
      "metadata": {
        "id": "g794nWiDRD3I",
        "colab_type": "text"
      },
      "source": [
        "### Optimización numérica"
      ]
    },
    {
      "cell_type": "code",
      "metadata": {
        "id": "WYA2tt0zRIAi",
        "colab_type": "code",
        "colab": {}
      },
      "source": [
        "import cupy as cp\n",
        "import numpy as np\n",
        "from solver.utils import inc_index\n",
        "from solver.utils import dec_index\n",
        "\n",
        "\n",
        "def gfo_cp_mark(Sigma,x):\n",
        "    '''\n",
        "    gradiente de la función objetivo 1/2*x.t*Sigma*x\n",
        "    input: matriz Sigma y vector x\n",
        "    output: producto matriz-vector Sigma*x\n",
        "    '''\n",
        "    first_block = Sigma@x\n",
        "    return first_block\n",
        "\n",
        "\n",
        "def Hfo_cp_mark(Sigma):\n",
        "    '''\n",
        "    Hessiana de la función objetivo 1/2*x.t*Sigma*x\n",
        "    input: matriz Sigma\n",
        "    output: matriz Sigma\n",
        "    '''\n",
        "    first_block = Sigma \n",
        "    return first_block\n",
        "\n",
        "\n",
        "def gradient_approximation(f,x,h=1e-8):\n",
        "    '''\n",
        "    Numerical approximation of gradient for function f using forward differences.\n",
        "    Args:\n",
        "        f (lambda expression): definition of function f.\n",
        "        x (array): numpy array that holds values where gradient will be computed.\n",
        "        h (float): step size for forward differences, tipically h=1e-8\n",
        "    Returns:\n",
        "        gf (array): numerical approximation to gradient of f.\n",
        "    '''\n",
        "    n = x.size\n",
        "    gf = cp.zeros(n)\n",
        "    f_x = f(x)\n",
        "    for i in np.arange(n):\n",
        "        inc_index(x,i,h)\n",
        "        gf[i] = f(x) - f_x\n",
        "        dec_index(x,i,h)\n",
        "    return gf/h\n",
        "\n",
        "\n",
        "\n",
        "def Hessian_approximation(f,x,h=1e-6):\n",
        "    '''\n",
        "    Numerical approximation of Hessian for function f using forward differences.\n",
        "    Args:\n",
        "        f (lambda expression): definition of function f.\n",
        "        x (array): numpy array that holds values where Hessian will be computed.\n",
        "        h (float): step size for forward differences, tipically h=1e-6\n",
        "    Returns:\n",
        "        Hf (array): numerical approximation to Hessian of f.\n",
        "    '''\n",
        "    n = x.size\n",
        "    Hf = cp.zeros((n,n))\n",
        "    f_x = f(x)\n",
        "    for i in np.arange(n):\n",
        "        inc_index(x,i,h)\n",
        "        f_x_inc_in_i = f(x)\n",
        "        for j in np.arange(i,n):\n",
        "            inc_index(x,j,h)\n",
        "            f_x_inc_in_i_j = f(x)\n",
        "            dec_index(x,i,h)\n",
        "            f_x_inc_in_j = f(x)\n",
        "            dif = f_x_inc_in_i_j-f_x_inc_in_i-f_x_inc_in_j+f_x\n",
        "            Hf[i,j] = dif\n",
        "            if j != i:\n",
        "                Hf[j,i] = dif\n",
        "            dec_index(x,j,h)\n",
        "            inc_index(x,i,h)\n",
        "        dec_index(x,i,h)\n",
        "    return Hf/h**2\n",
        "\n",
        "import solver\n",
        "\n",
        "\n",
        "\n",
        "def Newtons_method_feasible_init_point(f, A, x_0, tol, \n",
        "                                       tol_backtracking, x_ast=None, p_ast=None, maxiter=30,\n",
        "                                       gf_symbolic = None,\n",
        "                                       Hf_symbolic = None,\n",
        "                                       Sigma = None):\n",
        "    '''\n",
        "    Newton's method to numerically approximate solution of min f subject to Ax = b.\n",
        "    IMPORTANT: this implementation requires that initial point x_0, satisfies: Ax_0 = b\n",
        "    Args:\n",
        "        f (fun): definition of function f as lambda expression or function definition.\n",
        "        A (numpy ndarray): 2d numpy array of shape (m,n) defines system of constraints Ax=b.\n",
        "        x_0 (numpy ndarray): initial point for Newton's method. Must satisfy: Ax_0 = b\n",
        "        tol (float): tolerance that will halt method. Controls stopping criteria.\n",
        "        tol_backtracking (float): tolerance that will halt method. Controls value of line search by backtracking.\n",
        "        x_ast (numpy ndarray): solution of min f, now it's required that user knows the solution...\n",
        "        p_ast (float): value of f(x_ast), now it's required that user knows the solution...\n",
        "        maxiter (int): maximum number of iterations\n",
        "        gf_symbolic (fun): definition of gradient of f. If given, no approximation is\n",
        "                                     performed via finite differences.\n",
        "        Hf_symbolic (fun): definition of Hessian of f. If given, no approximation is\n",
        "                                     performed via fi\n",
        "                                     nite differences.\n",
        "    Returns:\n",
        "        x (numpy ndarray): numpy array, approximation of x_ast.\n",
        "        iteration (int): number of iterations.\n",
        "        Err_plot (numpy ndarray): numpy array of absolute error between p_ast and f(x) with x approximation\n",
        "                          of x_ast. Useful for plotting.\n",
        "        x_plot (numpy ndarray): numpy array that containts in columns vector of approximations. Last column\n",
        "                        contains x, approximation of solution. Useful for plotting.\n",
        "    '''\n",
        "    iteration = 0\n",
        "        \n",
        "    x = x_0\n",
        "    \n",
        "    feval = f(x)\n",
        "    \n",
        "    if gf_symbolic:\n",
        "        gfeval = gf_symbolic(x,Sigma)\n",
        "    else:\n",
        "        gfeval = gradient_approximation(f,x)\n",
        "\n",
        "    if Hf_symbolic:\n",
        "        Hfeval = Hf_symbolic(x,Sigma)\n",
        "    else:\n",
        "        Hfeval = Hessian_approximation(f,x)\n",
        "    \n",
        "    normgf = np.linalg.norm(gfeval)\n",
        "    condHf= solver.utils.condicion_cupy(Hfeval)\n",
        "    \n",
        "    Err_plot_aux = np.zeros(maxiter)\n",
        "    Err_plot_aux[iteration]= solver.utils.compute_error(p_ast,feval)\n",
        "    \n",
        "    Err = solver.utils.compute_error(x_ast,x)\n",
        "    \n",
        "        \n",
        "    if(A.ndim == 1):\n",
        "        p = 1\n",
        "        n = x.size\n",
        "        zero_matrix = cp.zeros(p)\n",
        "        first_stack = cp.column_stack((Hfeval, A.T))\n",
        "        second_stack = cp.row_stack((A.reshape(1,n).T,zero_matrix)).reshape(1,n+1)[0]\n",
        "    else:\n",
        "        p,n = A.shape\n",
        "        zero_matrix = cp.zeros((p,p))\n",
        "        first_stack = np.column_stack((Hfeval, A.T))\n",
        "        second_stack = np.column_stack((A,zero_matrix))\n",
        "        \n",
        "    x_plot = cp.zeros((n,maxiter))\n",
        "    x_plot[:,iteration] = x\n",
        "    \n",
        "    system_matrix = cp.vstack((first_stack,second_stack))\n",
        "    zero_vector = cp.zeros(p)\n",
        "    rhs = cp.vstack((gfeval.reshape(n,1), zero_vector.reshape(p,1))).T[0]\n",
        "\n",
        "    #Newton's direction and Newton's decrement\n",
        "    dir_desc = cp.linalg.solve(system_matrix, -rhs)\n",
        "    dir_Newton = dir_desc[0:n]\n",
        "    dec_Newton = -gfeval.dot(dir_Newton)\n",
        "    w_dual_variable_estimation = dir_desc[n:(n+p)]\n",
        "\n",
        "\n",
        "    print('I\\tNormgf \\tNewton Decrement\\tError x_ast\\tError p_ast\\tline search\\tCondHf')\n",
        "    print('{}\\t{}\\t{}\\t{}\\t{}\\t{}\\t\\t{}'.format(iteration,\n",
        "                                                cp.around(normgf,4),\n",
        "                                                cp.around(dec_Newton,4),\n",
        "                                                cp.around(Err,4),\n",
        "                                                cp.around(Err_plot_aux[iteration],4),\n",
        "                                                \"---\",\n",
        "                                                cp.around(condHf,4)))\n",
        "    stopping_criteria = dec_Newton/2\n",
        "    iteration+=1\n",
        "    while(stopping_criteria>tol and iteration < maxiter):\n",
        "        der_direct = -dec_Newton\n",
        "        t = solver.line_search.line_search_by_backtracking(f,dir_Newton,x,der_direct)\n",
        "        x = x + t*dir_Newton\n",
        "        feval = f(x)\n",
        "        \n",
        "        \n",
        "        if gf_symbolic:\n",
        "            gfeval = gf_symbolic(x,Sigma)\n",
        "        else:\n",
        "            gfeval = gradient_approximation(f,x)\n",
        "        \n",
        "        if Hf_symbolic: \n",
        "            Hfeval = Hf_symbolic(x,Sigma)\n",
        "        else:\n",
        "            Hfeval = Hessian_approximation(f,x)\n",
        "        if(A.ndim == 1):\n",
        "            first_stack = cp.column_stack((Hfeval, A.T))\n",
        "        else:\n",
        "            first_stack = cp.column_stack((Hfeval, A.T))\n",
        "\n",
        "        system_matrix = cp.vstack((first_stack,second_stack))\n",
        "        rhs = cp.vstack((gfeval.reshape(n,1), zero_vector.reshape(p,1))).T[0]\n",
        "        #Newton's direction and Newton's decrement\n",
        "        dir_desc = cp.linalg.solve(system_matrix, -rhs)\n",
        "        dir_Newton = dir_desc[0:n]\n",
        "        dec_Newton = -gfeval.dot(dir_Newton)\n",
        "        w_dual_variable_estimation = dir_desc[n:(n+p)]\n",
        "        \n",
        "        Err_plot_aux[iteration]= solver.utils.compute_error(p_ast,feval)\n",
        "        x_plot[:,iteration] = x\n",
        "        Err = solver.utils.compute_error(x_ast,x)\n",
        "        print('{}\\t{}\\t{}\\t{}\\t{}\\t{}\\t{}'.format(iteration,\n",
        "                                                  cp.around(normgf,4),\n",
        "                                                  cp.around(dec_Newton,4),\n",
        "                                                  cp.around(Err,4),\n",
        "                                                  cp.around(Err_plot_aux[iteration],4),\n",
        "                                                  cp.around(t,4),\n",
        "                                                  cp.around(condHf,4)))\n",
        "        stopping_criteria = dec_Newton/2\n",
        "        if t<tol_backtracking: #if t is less than tol_backtracking then we need to check the reason\n",
        "            iter_salida=iteration\n",
        "            iteration = maxiter - 1\n",
        "        iteration+=1\n",
        "    print('{} {}'.format(\"Error of x with respect to x_ast:\",Err))\n",
        "    print('{} {}'.format(\"Approximate solution:\", x))\n",
        "    cond = Err_plot_aux > np.finfo(float).eps*10**(-2)\n",
        "    Err_plot = Err_plot_aux[cond]\n",
        "    \n",
        "    if iteration == maxiter and t < tol_backtracking:\n",
        "        print(\"Backtracking value less than tol_backtracking, check approximation\")\n",
        "        iteration=iter_salida\n",
        "    else:\n",
        "        if iteration == maxiter:\n",
        "            print(\"Reached maximum of iterations, check approximation\")\n",
        "    x_plot = x_plot[:,:iteration]\n",
        "    return [x,iteration,Err_plot,x_plot]\n"
      ],
      "execution_count": 0,
      "outputs": []
    },
    {
      "cell_type": "markdown",
      "metadata": {
        "id": "behXLDpARJ-d",
        "colab_type": "text"
      },
      "source": [
        "### Utils"
      ]
    },
    {
      "cell_type": "code",
      "metadata": {
        "id": "24iSwQbMRPNz",
        "colab_type": "code",
        "colab": {}
      },
      "source": [
        "import cupy as cp\n",
        "\n",
        "def inc_index(vec,index,h):\n",
        "    '''\n",
        "    Funcion auxiliar para calculo gradiente y hessiano.\n",
        "    Args:\n",
        "        vec (array): array de cupy.\n",
        "        index (int): indice.\n",
        "        h (float):   cantidad del vec[index] que sera incrementada.\n",
        "    Returns:\n",
        "        vec (array): array vec de cupy con vec[index] incrementado con h.\n",
        "    '''\n",
        "    vec[index] +=h\n",
        "    return vec\n",
        "\n",
        "def dec_index(vec,index,h=1):\n",
        "    '''\n",
        "    Funcion auxiliar para calculo gradiente y hessiano.\n",
        "    Args:\n",
        "        vec (array): array de cupy.\n",
        "        index (int): indice.\n",
        "        h (float):   antidad del vec[index] que sera disminuida.\n",
        "    Returns:\n",
        "        vec (array): array vec de cupy con vec[index] disminuida con h.\n",
        "    '''\n",
        "    vec[index] -=h\n",
        "    return vec\n",
        "\n",
        "def compute_error(x_obj,x_approx):\n",
        "    '''\n",
        "    Error absoluto o relativo entre x_obj y x_approx.\n",
        "    '''\n",
        "    if cp.linalg.norm(x_obj) > cp.nextafter(0,1):\n",
        "        Err=cp.linalg.norm(x_obj-x_approx)/cp.linalg.norm(x_obj)\n",
        "    else:\n",
        "        Err=cp.linalg.norm(x_obj-x_approx)\n",
        "    return Err\n",
        "\n",
        "def norm_residual(feas_primal, feas_dual):\n",
        "    '''\n",
        "    Calcula la norma de residuos para el método de punto inicial no factible de Newton\n",
        "    '''\n",
        "    return cp.sqrt(cp.linalg.norm(feas_primal)**2 +\\\n",
        "                   cp.linalg.norm(feas_dual)**2\n",
        "                   )\n",
        "\n",
        "def condicion_cupy(A):\n",
        "    '''\n",
        "    Función que calcula la condición de una matriz para matrices en Cupy\n",
        "    Args:\n",
        "      A:  Matriz de cupy\n",
        "    Return:\n",
        "      c: Condición de una matriz\n",
        "    '''\n",
        "    A_inv = cp.linalg.inv(A)\n",
        "    NAi = cp.linalg.norm(A_inv)\n",
        "    NA = cp.linalg.norm(A)\n",
        "    return NAi*NA\n",
        "\n",
        "def feasible_markowitz(r,mu):\n",
        "  '''\n",
        "  Funcion que devuelve un punto factible del problema de Markowitz, resolviendo\n",
        "  las ecuaciones normales asociadas\n",
        "  Args:\n",
        "     r (float): real positivo, que modela rendimiento esperado por inversionista\n",
        "     mu (aray): array de cupy que contiene los valores medios de los rendimientos\n",
        "          de los activos en el portafolio\n",
        "  Return:\n",
        "     w_star (float): punto feasible del problema de Markowitz\n",
        "  '''\n",
        "  # matriz del sistema para ecuaciones normales\n",
        "  M = cp.ones((2,mu.shape[0]))\n",
        "\n",
        "  for i in range(mu.shape[0]):\n",
        "    M[0,i]=mu[i]\n",
        "\n",
        "  # lado derecho de sistema\n",
        "  b= cp.array([r,1])\n",
        "\n",
        "  # Resuelve ecuaciones normales\n",
        "  w_star = cp.linalg.solve(M.transpose()@M,M.transpose()@b)\n",
        "  \n",
        "  return w_star"
      ],
      "execution_count": 0,
      "outputs": []
    },
    {
      "cell_type": "markdown",
      "metadata": {
        "id": "4wowIcmFRPiE",
        "colab_type": "text"
      },
      "source": [
        "### Punto factible"
      ]
    },
    {
      "cell_type": "code",
      "metadata": {
        "id": "ImZRcSydRbuw",
        "colab_type": "code",
        "colab": {}
      },
      "source": [
        "import cupy as cp\n",
        "def feasible_markowitz(r,mu):\n",
        "  '''\n",
        "  Funcion que devuelve un punto factible del problema de Markowitz, resolviendo\n",
        "  las ecuaciones normales asociadas\n",
        "  Args:\n",
        "     r (float): real positivo, que modela rendimiento esperado por inversionista\n",
        "     mu (aray): array de cupy que contiene los valores medios de los rendimientos\n",
        "          de los activos en el portafolio\n",
        "  Return:\n",
        "     w_star (float): punto feasible del problema de Markowitz\n",
        "  '''\n",
        "  # matriz del sistema para ecuaciones normales\n",
        "  M = cp.ones((2,mu.shape[0]))\n",
        "\n",
        "  for i in range(mu.shape[0]):\n",
        "    M[0,i]=mu[i,0]\n",
        "\n",
        "  # lado derecho de sistema\n",
        "  b= cp.array([r,1])\n",
        "\n",
        "  # Resuelve ecuaciones normales\n",
        "  w_star = cp.linalg.solve(M.transpose()@M,M.transpose()@b)\n",
        "  \n",
        "  return w_star"
      ],
      "execution_count": 0,
      "outputs": []
    },
    {
      "cell_type": "markdown",
      "metadata": {
        "id": "6sqgkmd0Rb3n",
        "colab_type": "text"
      },
      "source": [
        "### Line search"
      ]
    },
    {
      "cell_type": "code",
      "metadata": {
        "id": "dOUYu0tqRgYN",
        "colab_type": "code",
        "colab": {}
      },
      "source": [
        "from solver.utils import norm_residual\n",
        "\n",
        "def line_search_by_backtracking(f,dir_desc,x,\n",
        "                                der_direct, alpha=.15, beta=.5):\n",
        "    '''\n",
        "    Busqueda de linea que disminuye suficientemente f restringida a un rayo en\n",
        "    la dirección dir_desc.\n",
        "    Args:\n",
        "        alpha (float): parametro en busqueda de linea con backtracking, tipicamente .15\n",
        "        beta (float): parametro en busqueda de linea con backtracking, tipicamente .5\n",
        "        f (lambda expression): definicion de funcion f.\n",
        "        dir_desc (array): direccion de descenso.\n",
        "        x (array): array de cupy que contiene valores donde se realizara la busqueda de linea\n",
        "        der_direct (float): derivada direccional de f.\n",
        "    Returns:\n",
        "        t (float): numero positivo para el tamano de pasos a lo largo de dir_desc que\n",
        "                   disminuye suficientemente f.\n",
        "    '''\n",
        "    t=1\n",
        "    if alpha > 1/2:\n",
        "        print('alpha menor o igual que 1/2')\n",
        "        t=-1\n",
        "    if beta>1:\n",
        "        print('beta debe ser menor a 1')\n",
        "        t=-1;\n",
        "    if t!=-1:\n",
        "        eval1 = f(x+t*dir_desc)\n",
        "        eval2 = f(x) + alpha*t*der_direct\n",
        "        while eval1 > eval2:\n",
        "            t=beta*t\n",
        "            eval1=f(x+t*dir_desc)\n",
        "            eval2=f(x)+alpha*t*der_direct\n",
        "    else:\n",
        "        t=-1\n",
        "    return t\n",
        "\n",
        "def line_search_for_residual_by_backtracking(r_primal, r_dual,dir_desc_primal,dir_desc_dual,x, nu,\n",
        "                                             norm_residual_eval,\n",
        "                                             alpha=.15, beta=.5):\n",
        "    '''\n",
        "    Busqueda de linea que disminuye suficientemente el residual para el metodo\n",
        "    de punto inicial inviable de Newton restringido a un rayo en la direccion dir_desc.\n",
        "    Args:\n",
        "        r_primal (fun): definicion de residual primal como funcion definida o expresion lambda.\n",
        "        r_dual (fun): definicion de residual dual como funcion definida o expresion lambda.\n",
        "        dir_desc_primal (array): direccion de desceso para variable primal.\n",
        "        dir_desc_dual (array): direccion de descenso para variable dual.\n",
        "        x (array): array de cupy que contiene valores donde se realizara la busqueda de linea.\n",
        "        nu (array): array de cupy que contiene valores donde se realizara la busqueda de linea.\n",
        "        norm_residual_eval (float): norma de residuos que tiene evaluaciones r_primal y \n",
        "        r_dual en x y nu\n",
        "        alpha (float): parametro de busqueda de linea con backtracking, tipicamente .15\n",
        "        beta (float): parametro de busqueda de linea con backtracking, tipicamente .5\n",
        "\n",
        "    Returns:\n",
        "        t (float): numero positivo para el tamano de pasos a lo largo de dir_desc que \n",
        "        disminuye suficientemente f.\n",
        "    '''\n",
        "    t=1\n",
        "    if alpha > 1/2:\n",
        "        print('alpha debe ser menor o igual que 1/2')\n",
        "        t=-1\n",
        "    if beta>1:\n",
        "        print('beta debe ser menor que uno 1')\n",
        "        t=-1;\n",
        "    if t!=-1:\n",
        "        feas_primal = r_primal(x + t*dir_desc_primal)\n",
        "        feas_dual = r_dual(nu + t*dir_desc_dual )\n",
        "        eval1 = norm_residual(feas_primal, feas_dual)\n",
        "        eval2 = (1-alpha*t)*norm_residual_eval\n",
        "        while eval1 > eval2:\n",
        "            t=beta*t\n",
        "            feas_primal = r_primal(x + t*dir_desc_primal)\n",
        "            feas_dual = r_dual(nu + t*dir_desc_dual )\n",
        "            eval1 = norm_residual(feas_primal, feas_dual)\n",
        "            eval2 = (1-alpha*t)*norm_residual_eval\n",
        "    return t\n"
      ],
      "execution_count": 0,
      "outputs": []
    },
    {
      "cell_type": "markdown",
      "metadata": {
        "id": "4dTYTxEfNjAD",
        "colab_type": "text"
      },
      "source": [
        "## Cargamos la información y calculamos los parámetros\n",
        "\n",
        "Primero cargamos los precios de las acciones que se han escogido para esta implementación"
      ]
    },
    {
      "cell_type": "code",
      "metadata": {
        "id": "Gg1dxJ_ZJC2B",
        "colab_type": "code",
        "colab": {}
      },
      "source": [
        "stocks = ['COP','AMT','LIN','LMT','AMZN','WMT','JNJ','VTI','MSFT','GOOG','XOM','CCI','BHP.AX','UNP',\n",
        "'BABA','NSRGY','RHHBY','VOO','AAPL','FB','CVX','PLD','RIO.L','HON','HD','PG','UNH','BRK-A','V','0700.HK',\n",
        "'RDSA.AS','0688.HK','AI.PA','RTX','MC.PA','KO','PFE','JPM','005930.KS','VZ','RELIANCE.NS','DLR','2010.SR',\n",
        "'UPS','7203.T','PEP','MRK','1398.HK','MA','T']"
      ],
      "execution_count": 0,
      "outputs": []
    },
    {
      "cell_type": "code",
      "metadata": {
        "id": "xrSTdkefJXYJ",
        "colab_type": "code",
        "outputId": "27468620-c550-4e98-b522-839fe4820175",
        "colab": {
          "base_uri": "https://localhost:8080/",
          "height": 35
        }
      },
      "source": [
        "datos = extrae.extraer_datos_yahoo(stocks)"
      ],
      "execution_count": 0,
      "outputs": [
        {
          "output_type": "stream",
          "text": [
            "[*********************100%***********************]  50 of 50 downloaded\n"
          ],
          "name": "stdout"
        }
      ]
    },
    {
      "cell_type": "markdown",
      "metadata": {
        "id": "rsbKQyhDNncE",
        "colab_type": "text"
      },
      "source": [
        "Usando las fucniones auxiliares definidas previamente calculamos los rendimientos esperados y la matriz de varianza y covarianza para las acciones"
      ]
    },
    {
      "cell_type": "code",
      "metadata": {
        "id": "s2KoIMbNJbaB",
        "colab_type": "code",
        "colab": {}
      },
      "source": [
        "mu = aux.calcular_rendimiento(datos)"
      ],
      "execution_count": 0,
      "outputs": []
    },
    {
      "cell_type": "code",
      "metadata": {
        "id": "346vu3o8Jdau",
        "colab_type": "code",
        "colab": {}
      },
      "source": [
        "S = aux.calcular_varianza(datos)"
      ],
      "execution_count": 0,
      "outputs": []
    },
    {
      "cell_type": "markdown",
      "metadata": {
        "id": "4aO2U2X0NqUZ",
        "colab_type": "text"
      },
      "source": [
        "Calcularemos cuál fue el rendimiento máximo obtenido (de entre las medias de los datos históricos) y lo usaremos como el rendimiento deseado en el problema de optimización"
      ]
    },
    {
      "cell_type": "code",
      "metadata": {
        "id": "Puin3DyEJfKc",
        "colab_type": "code",
        "outputId": "4cb29c2a-9bc0-49f6-8cdb-23e4922a4e76",
        "colab": {
          "base_uri": "https://localhost:8080/",
          "height": 35
        }
      },
      "source": [
        "r=max(mu).item()\n",
        "r"
      ],
      "execution_count": 0,
      "outputs": [
        {
          "output_type": "execute_result",
          "data": {
            "text/plain": [
              "0.4022108787760788"
            ]
          },
          "metadata": {
            "tags": []
          },
          "execution_count": 7
        }
      ]
    },
    {
      "cell_type": "markdown",
      "metadata": {
        "id": "IVOUC2Q7NtLM",
        "colab_type": "text"
      },
      "source": [
        "## Resolvemos con el Método de Newton usando diferencias finitas\n",
        "\n",
        "La función a optimizar será la siguiente:"
      ]
    },
    {
      "cell_type": "code",
      "metadata": {
        "id": "VggJi2rSm0iD",
        "colab_type": "code",
        "colab": {}
      },
      "source": [
        "fo = lambda w: w@S@w"
      ],
      "execution_count": 0,
      "outputs": []
    },
    {
      "cell_type": "markdown",
      "metadata": {
        "id": "dZscf5PYN5fq",
        "colab_type": "text"
      },
      "source": [
        "Usamos la solución analítica para tener la solución con la cual comparar."
      ]
    },
    {
      "cell_type": "code",
      "metadata": {
        "id": "xVZwOMzRm3WF",
        "colab_type": "code",
        "colab": {}
      },
      "source": [
        "w_ast = mkv.markowitz(r,mu,S)"
      ],
      "execution_count": 0,
      "outputs": []
    },
    {
      "cell_type": "markdown",
      "metadata": {
        "id": "cBo0obObN8ZD",
        "colab_type": "text"
      },
      "source": [
        "La matriz $A$ de restricciones está dada por:"
      ]
    },
    {
      "cell_type": "code",
      "metadata": {
        "id": "IM8UCaBsm8XP",
        "colab_type": "code",
        "outputId": "b2ab96e1-0865-448e-9edf-e04b004f7576",
        "colab": {
          "base_uri": "https://localhost:8080/",
          "height": 384
        }
      },
      "source": [
        "n = mu.shape[0]\n",
        "A = cp.concatenate((mu,cp.ones(n))).reshape(2,n)\n",
        "A"
      ],
      "execution_count": 0,
      "outputs": [
        {
          "output_type": "execute_result",
          "data": {
            "text/plain": [
              "array([[ 0.13254293,  0.02782955,  0.25778345, -0.01787111, -0.02008539,\n",
              "        -0.02286483,  0.19078421,  0.05743478,  0.17062275,  0.40221088,\n",
              "         0.13618598,  0.02364206,  0.0476638 ,  0.13217291, -0.09666644,\n",
              "        -0.03426582,  0.15880965,  0.17870289,  0.18557566,  0.15042008,\n",
              "         0.08379133,  0.07154137,  0.08843336,  0.02202303,  0.07353272,\n",
              "         0.13731909,  0.23605478,  0.19942876,  0.06806557,  0.26292508,\n",
              "         0.07357148,  0.06803817,  0.03867589,  0.05090149,  0.14401416,\n",
              "        -0.09339291,  0.23072551,  0.05036842,  0.05587177, -0.01264577,\n",
              "        -0.01474117,  0.20678446,  0.06274014, -0.02729424,  0.1990038 ,\n",
              "         0.07054765,  0.06563628,  0.04203765,  0.0717407 , -0.13227261],\n",
              "       [ 1.        ,  1.        ,  1.        ,  1.        ,  1.        ,\n",
              "         1.        ,  1.        ,  1.        ,  1.        ,  1.        ,\n",
              "         1.        ,  1.        ,  1.        ,  1.        ,  1.        ,\n",
              "         1.        ,  1.        ,  1.        ,  1.        ,  1.        ,\n",
              "         1.        ,  1.        ,  1.        ,  1.        ,  1.        ,\n",
              "         1.        ,  1.        ,  1.        ,  1.        ,  1.        ,\n",
              "         1.        ,  1.        ,  1.        ,  1.        ,  1.        ,\n",
              "         1.        ,  1.        ,  1.        ,  1.        ,  1.        ,\n",
              "         1.        ,  1.        ,  1.        ,  1.        ,  1.        ,\n",
              "         1.        ,  1.        ,  1.        ,  1.        ,  1.        ]])"
            ]
          },
          "metadata": {
            "tags": []
          },
          "execution_count": 10
        }
      ]
    },
    {
      "cell_type": "markdown",
      "metadata": {
        "id": "h4c33TdMOCv4",
        "colab_type": "text"
      },
      "source": [
        "Por otro lado el vector $b$ está dado por:"
      ]
    },
    {
      "cell_type": "code",
      "metadata": {
        "id": "bsIQ6l9Km_Iu",
        "colab_type": "code",
        "outputId": "8e11de46-5d28-4edc-cabc-90ac551b9e16",
        "colab": {
          "base_uri": "https://localhost:8080/",
          "height": 35
        }
      },
      "source": [
        "b = cp.array([r,1])\n",
        "b"
      ],
      "execution_count": 0,
      "outputs": [
        {
          "output_type": "execute_result",
          "data": {
            "text/plain": [
              "array([0.40221088, 1.        ])"
            ]
          },
          "metadata": {
            "tags": []
          },
          "execution_count": 11
        }
      ]
    },
    {
      "cell_type": "markdown",
      "metadata": {
        "id": "gBKbGf4IOE5M",
        "colab_type": "text"
      },
      "source": [
        "Definimos el punto inicial con la función definida anteriormente:"
      ]
    },
    {
      "cell_type": "code",
      "metadata": {
        "id": "6w55fwjinCYD",
        "colab_type": "code",
        "colab": {}
      },
      "source": [
        "w_0 = utils.feasible_markowitz(r,mu)"
      ],
      "execution_count": 0,
      "outputs": []
    },
    {
      "cell_type": "markdown",
      "metadata": {
        "id": "w7s6TMESOuqP",
        "colab_type": "text"
      },
      "source": [
        "Definimos los parámetros para el método de Newton de la siguiente manera:"
      ]
    },
    {
      "cell_type": "code",
      "metadata": {
        "id": "4xNCW48DnFfc",
        "colab_type": "code",
        "colab": {}
      },
      "source": [
        "tol=1e-8\n",
        "tol_backtracking=1e-14\n",
        "p_ast=fo(w_ast)\n",
        "maxiter=50"
      ],
      "execution_count": 0,
      "outputs": []
    },
    {
      "cell_type": "code",
      "metadata": {
        "id": "-ef2K8KVnId9",
        "colab_type": "code",
        "outputId": "c6770f8f-e57a-4e36-bc9f-5055cba3fa4b",
        "colab": {
          "base_uri": "https://localhost:8080/",
          "height": 348
        }
      },
      "source": [
        "[w,total_of_iterations,Err_plot,x_plot]=opt.Newtons_method_feasible_init_point(fo,A, w_0,tol, tol_backtracking, w_ast, p_ast, maxiter)\n",
        "\n"
      ],
      "execution_count": 0,
      "outputs": [
        {
          "output_type": "stream",
          "text": [
            "I\tNormgf \tNewton Decrement\tError x_ast\tError p_ast\tline search\tCondHf\n",
            "0\t0.0019\t0.0009\t1.1003\t4.6964\t---\t\t11162.699\n",
            "1\t0.0019\t0.0\t0.0334\t0.0002\t1\t11162.699\n",
            "2\t0.0019\t0.0\t0.0005\t0.0\t1\t11162.699\n",
            "Error of x with respect to x_ast: 0.00047875631346943525\n",
            "Approximate solution: [ 1.58456068e-01 -2.08709832e-02  1.58048926e-01 -9.28997264e-02\n",
            "  3.17031053e-02  5.10786741e-02  8.71853168e-02  1.26296186e-02\n",
            "  3.72848119e-02  2.86001357e-01 -5.99024985e-03  2.24553601e-03\n",
            "  2.03074487e-01  9.46087178e-02  2.28786290e-02  1.49784235e-02\n",
            "  7.61265302e-03  2.96680495e-02  5.76467623e-02  1.98108419e-01\n",
            "  1.19921167e-01  1.27865977e-01  1.41309880e-01  1.36173882e-02\n",
            "  8.83887534e-02  1.50475380e-01  1.69271249e-01  7.72165387e-02\n",
            "  8.09183143e-02  8.24853959e-02  1.92195287e-01 -2.39896300e-02\n",
            "  2.64386780e-02  7.69729393e-02  2.20710514e-02 -1.08208343e-01\n",
            "  1.64030583e-01  1.76988175e-02  6.16368407e-02 -1.08217542e-01\n",
            " -5.03608169e-02  1.38841035e-01  1.03558964e-01 -4.28149790e-02\n",
            "  1.07055969e-02 -2.33399846e+00  1.90628556e-01  2.63317339e-01\n",
            "  1.20089563e-01 -1.05514115e-01]\n"
          ],
          "name": "stdout"
        }
      ]
    },
    {
      "cell_type": "markdown",
      "metadata": {
        "id": "ySRGtaC4PATK",
        "colab_type": "text"
      },
      "source": [
        "La solución dada por el Método de Newton usando las diferenciación numérica es muy similar a la del método cerrado. Siendo el error de:"
      ]
    },
    {
      "cell_type": "code",
      "metadata": {
        "id": "22a7QRkdnNr1",
        "colab_type": "code",
        "outputId": "6cada1a4-969a-4cc5-fc4c-7922422ecb39",
        "colab": {
          "base_uri": "https://localhost:8080/",
          "height": 35
        }
      },
      "source": [
        "Err_plot[-1]"
      ],
      "execution_count": 0,
      "outputs": [
        {
          "output_type": "execute_result",
          "data": {
            "text/plain": [
              "1.073648151492267e-08"
            ]
          },
          "metadata": {
            "tags": []
          },
          "execution_count": 15
        }
      ]
    },
    {
      "cell_type": "code",
      "metadata": {
        "id": "Zp4DHzwOnNxo",
        "colab_type": "code",
        "outputId": "a1c1dd73-9f95-47df-c66f-edc51a87a4a0",
        "colab": {
          "base_uri": "https://localhost:8080/",
          "height": 256
        }
      },
      "source": [
        "w"
      ],
      "execution_count": 0,
      "outputs": [
        {
          "output_type": "execute_result",
          "data": {
            "text/plain": [
              "array([ 1.58456068e-01, -2.08709832e-02,  1.58048926e-01, -9.28997264e-02,\n",
              "        3.17031053e-02,  5.10786741e-02,  8.71853168e-02,  1.26296186e-02,\n",
              "        3.72848119e-02,  2.86001357e-01, -5.99024985e-03,  2.24553601e-03,\n",
              "        2.03074487e-01,  9.46087178e-02,  2.28786290e-02,  1.49784235e-02,\n",
              "        7.61265302e-03,  2.96680495e-02,  5.76467623e-02,  1.98108419e-01,\n",
              "        1.19921167e-01,  1.27865977e-01,  1.41309880e-01,  1.36173882e-02,\n",
              "        8.83887534e-02,  1.50475380e-01,  1.69271249e-01,  7.72165387e-02,\n",
              "        8.09183143e-02,  8.24853959e-02,  1.92195287e-01, -2.39896300e-02,\n",
              "        2.64386780e-02,  7.69729393e-02,  2.20710514e-02, -1.08208343e-01,\n",
              "        1.64030583e-01,  1.76988175e-02,  6.16368407e-02, -1.08217542e-01,\n",
              "       -5.03608169e-02,  1.38841035e-01,  1.03558964e-01, -4.28149790e-02,\n",
              "        1.07055969e-02, -2.33399846e+00,  1.90628556e-01,  2.63317339e-01,\n",
              "        1.20089563e-01, -1.05514115e-01])"
            ]
          },
          "metadata": {
            "tags": []
          },
          "execution_count": 16
        }
      ]
    },
    {
      "cell_type": "code",
      "metadata": {
        "id": "8WhhSfnwnVw5",
        "colab_type": "code",
        "outputId": "54ea22a4-ccd9-4336-c265-a1d0b390dd43",
        "colab": {
          "base_uri": "https://localhost:8080/",
          "height": 256
        }
      },
      "source": [
        "w_ast"
      ],
      "execution_count": 0,
      "outputs": [
        {
          "output_type": "execute_result",
          "data": {
            "text/plain": [
              "array([ 1.58450459e-01, -2.08710279e-02,  1.58051613e-01, -9.28970852e-02,\n",
              "        3.17093838e-02,  5.10824537e-02,  8.71800626e-02,  1.26389547e-02,\n",
              "        3.72861469e-02,  2.86000507e-01, -5.98810147e-03,  2.24206232e-03,\n",
              "        2.03075836e-01,  9.46030741e-02,  2.28766788e-02,  1.49919976e-02,\n",
              "        7.60706433e-03,  2.96676402e-02,  5.76521006e-02,  1.98109863e-01,\n",
              "        1.19928144e-01,  1.27869501e-01,  1.41300419e-01,  1.36285005e-02,\n",
              "        8.83904753e-02,  1.50479914e-01,  1.69293512e-01,  7.72037012e-02,\n",
              "        8.09121352e-02,  8.24658724e-02,  1.92197879e-01, -2.40095431e-02,\n",
              "        2.64375219e-02,  7.69647088e-02,  2.20741648e-02, -1.08207562e-01,\n",
              "        1.64032748e-01,  1.77020932e-02,  6.16398087e-02, -1.08210745e-01,\n",
              "       -5.03462807e-02,  1.38834320e-01,  1.03567400e-01, -4.28198353e-02,\n",
              "        1.06872745e-02, -2.33314798e+00,  1.89811544e-01,  2.63296457e-01,\n",
              "        1.20089773e-01, -1.05535600e-01])"
            ]
          },
          "metadata": {
            "tags": []
          },
          "execution_count": 17
        }
      ]
    },
    {
      "cell_type": "markdown",
      "metadata": {
        "id": "t48S1m93PEom",
        "colab_type": "text"
      },
      "source": [
        "La varianza entre ambos métodos también es muy similar"
      ]
    },
    {
      "cell_type": "code",
      "metadata": {
        "id": "4xQwZdQinZfC",
        "colab_type": "code",
        "outputId": "b481a70c-dc1f-44a0-8d1d-045c11255cf5",
        "colab": {
          "base_uri": "https://localhost:8080/",
          "height": 35
        }
      },
      "source": [
        "w@S@w"
      ],
      "execution_count": 0,
      "outputs": [
        {
          "output_type": "execute_result",
          "data": {
            "text/plain": [
              "array(9.45979256e-05)"
            ]
          },
          "metadata": {
            "tags": []
          },
          "execution_count": 18
        }
      ]
    },
    {
      "cell_type": "code",
      "metadata": {
        "id": "W6unuCjmnZ4X",
        "colab_type": "code",
        "outputId": "262f0180-ced7-473d-eb3c-72cc6b0574ea",
        "colab": {
          "base_uri": "https://localhost:8080/",
          "height": 35
        }
      },
      "source": [
        "w_ast@S@w_ast"
      ],
      "execution_count": 0,
      "outputs": [
        {
          "output_type": "execute_result",
          "data": {
            "text/plain": [
              "array(9.45979246e-05)"
            ]
          },
          "metadata": {
            "tags": []
          },
          "execution_count": 19
        }
      ]
    },
    {
      "cell_type": "code",
      "metadata": {
        "id": "lhnuSMmsnaAX",
        "colab_type": "code",
        "outputId": "6b6e979e-f98f-4f2a-a31a-c82179472a20",
        "colab": {
          "base_uri": "https://localhost:8080/",
          "height": 35
        }
      },
      "source": [
        "utils.compute_error(w@S@w,w_ast@S@w_ast)"
      ],
      "execution_count": 0,
      "outputs": [
        {
          "output_type": "execute_result",
          "data": {
            "text/plain": [
              "array(1.07364814e-08)"
            ]
          },
          "metadata": {
            "tags": []
          },
          "execution_count": 20
        }
      ]
    },
    {
      "cell_type": "markdown",
      "metadata": {
        "id": "TdvVnGAKPR_G",
        "colab_type": "text"
      },
      "source": [
        "Además cumple con la restricción del rendimiento y la suma de pesos igual a 1"
      ]
    },
    {
      "cell_type": "code",
      "metadata": {
        "id": "557RYTFmnh9B",
        "colab_type": "code",
        "outputId": "dadf6c12-79ed-454e-f01b-3e45ce32dea1",
        "colab": {
          "base_uri": "https://localhost:8080/",
          "height": 35
        }
      },
      "source": [
        "w@mu"
      ],
      "execution_count": 0,
      "outputs": [
        {
          "output_type": "execute_result",
          "data": {
            "text/plain": [
              "array(0.40221088)"
            ]
          },
          "metadata": {
            "tags": []
          },
          "execution_count": 21
        }
      ]
    },
    {
      "cell_type": "code",
      "metadata": {
        "id": "z8iGFaL3niKD",
        "colab_type": "code",
        "outputId": "54ba96da-d0ef-4df8-a050-ee3ac57cbf90",
        "colab": {
          "base_uri": "https://localhost:8080/",
          "height": 35
        }
      },
      "source": [
        "utils.compute_error(w@mu, r)"
      ],
      "execution_count": 0,
      "outputs": [
        {
          "output_type": "execute_result",
          "data": {
            "text/plain": [
              "array(1.38015042e-16)"
            ]
          },
          "metadata": {
            "tags": []
          },
          "execution_count": 22
        }
      ]
    },
    {
      "cell_type": "code",
      "metadata": {
        "id": "BXd-eLFMnh07",
        "colab_type": "code",
        "outputId": "c55cc9f1-964b-4e40-d627-21a913150601",
        "colab": {
          "base_uri": "https://localhost:8080/",
          "height": 35
        }
      },
      "source": [
        "sum(w)"
      ],
      "execution_count": 0,
      "outputs": [
        {
          "output_type": "execute_result",
          "data": {
            "text/plain": [
              "array(1.)"
            ]
          },
          "metadata": {
            "tags": []
          },
          "execution_count": 23
        }
      ]
    },
    {
      "cell_type": "markdown",
      "metadata": {
        "id": "VjNydAihmMc3",
        "colab_type": "text"
      },
      "source": [
        "## Resolvemos con el Método de Newton usando funciones simbólicas"
      ]
    },
    {
      "cell_type": "markdown",
      "metadata": {
        "id": "yhslDpZXmQiE",
        "colab_type": "text"
      },
      "source": [
        "Ahora utilizaremos de nuevo el método de Newton usando las funciones simbólicas:"
      ]
    },
    {
      "cell_type": "code",
      "metadata": {
        "id": "Wr8BLJ9RmPin",
        "colab_type": "code",
        "colab": {}
      },
      "source": [
        "import inspect"
      ],
      "execution_count": 0,
      "outputs": []
    },
    {
      "cell_type": "code",
      "metadata": {
        "id": "5z2YYaLomT1v",
        "colab_type": "code",
        "outputId": "40f04e73-205f-49e9-c7f1-9085ec30ee3a",
        "colab": {
          "base_uri": "https://localhost:8080/",
          "height": 182
        }
      },
      "source": [
        "lines = inspect.getsource(opt.gfo_cp_mark)\n",
        "print(lines)"
      ],
      "execution_count": 0,
      "outputs": [
        {
          "output_type": "stream",
          "text": [
            "def gfo_cp_mark(Sigma,x):\n",
            "    '''\n",
            "    gradiente de la función objetivo 1/2*x.t*Sigma*x\n",
            "    input: matriz Sigma y vector x\n",
            "    output: producto matriz-vector Sigma*x\n",
            "    '''\n",
            "    first_block = Sigma@x\n",
            "    return first_block\n",
            "\n"
          ],
          "name": "stdout"
        }
      ]
    },
    {
      "cell_type": "code",
      "metadata": {
        "id": "Nuk3zVTBmTu2",
        "colab_type": "code",
        "outputId": "6393e684-73d5-4ea5-e01b-e5ef98174aee",
        "colab": {
          "base_uri": "https://localhost:8080/",
          "height": 182
        }
      },
      "source": [
        "lines = inspect.getsource(opt.Hfo_cp_mark)\n",
        "print(lines)"
      ],
      "execution_count": 0,
      "outputs": [
        {
          "output_type": "stream",
          "text": [
            "def Hfo_cp_mark(Sigma):\n",
            "    '''\n",
            "    Hessiana de la función objetivo 1/2*x.t*Sigma*x\n",
            "    input: matriz Sigma\n",
            "    output: matriz Sigma\n",
            "    '''\n",
            "    first_block = Sigma \n",
            "    return first_block\n",
            "\n"
          ],
          "name": "stdout"
        }
      ]
    },
    {
      "cell_type": "code",
      "metadata": {
        "id": "_sxIHqxBmTpu",
        "colab_type": "code",
        "outputId": "c61fe0bc-650e-4533-958d-32f99632eb66",
        "colab": {
          "base_uri": "https://localhost:8080/",
          "height": 323
        }
      },
      "source": [
        "[w,total_of_iterations,Err_plot,x_plot]=opt.Newtons_method_feasible_init_point(fo,A, w_0,tol, tol_backtracking, w_ast, p_ast, maxiter, opt.gfo_cp_mark, opt.Hfo_cp_mark,S)"
      ],
      "execution_count": 0,
      "outputs": [
        {
          "output_type": "error",
          "ename": "TypeError",
          "evalue": "ignored",
          "traceback": [
            "\u001b[0;31m---------------------------------------------------------------------------\u001b[0m",
            "\u001b[0;31mTypeError\u001b[0m                                 Traceback (most recent call last)",
            "\u001b[0;32m<ipython-input-27-9d802fa93e02>\u001b[0m in \u001b[0;36m<module>\u001b[0;34m()\u001b[0m\n\u001b[0;32m----> 1\u001b[0;31m \u001b[0;34m[\u001b[0m\u001b[0mw\u001b[0m\u001b[0;34m,\u001b[0m\u001b[0mtotal_of_iterations\u001b[0m\u001b[0;34m,\u001b[0m\u001b[0mErr_plot\u001b[0m\u001b[0;34m,\u001b[0m\u001b[0mx_plot\u001b[0m\u001b[0;34m]\u001b[0m\u001b[0;34m=\u001b[0m\u001b[0mopt\u001b[0m\u001b[0;34m.\u001b[0m\u001b[0mNewtons_method_feasible_init_point\u001b[0m\u001b[0;34m(\u001b[0m\u001b[0mfo\u001b[0m\u001b[0;34m,\u001b[0m\u001b[0mA\u001b[0m\u001b[0;34m,\u001b[0m \u001b[0mw_0\u001b[0m\u001b[0;34m,\u001b[0m\u001b[0mtol\u001b[0m\u001b[0;34m,\u001b[0m \u001b[0mtol_backtracking\u001b[0m\u001b[0;34m,\u001b[0m \u001b[0mw_ast\u001b[0m\u001b[0;34m,\u001b[0m \u001b[0mp_ast\u001b[0m\u001b[0;34m,\u001b[0m \u001b[0mmaxiter\u001b[0m\u001b[0;34m,\u001b[0m \u001b[0mopt\u001b[0m\u001b[0;34m.\u001b[0m\u001b[0mgfo_cp_mark\u001b[0m\u001b[0;34m,\u001b[0m \u001b[0mopt\u001b[0m\u001b[0;34m.\u001b[0m\u001b[0mHfo_cp_mark\u001b[0m\u001b[0;34m,\u001b[0m\u001b[0mS\u001b[0m\u001b[0;34m)\u001b[0m\u001b[0;34m\u001b[0m\u001b[0;34m\u001b[0m\u001b[0m\n\u001b[0m",
            "\u001b[0;32m/content/solver/optimizacion_numerica.py\u001b[0m in \u001b[0;36mNewtons_method_feasible_init_point\u001b[0;34m(f, A, x_0, tol, tol_backtracking, x_ast, p_ast, maxiter, gf_symbolic, Hf_symbolic, Sigma)\u001b[0m\n\u001b[1;32m    122\u001b[0m \u001b[0;34m\u001b[0m\u001b[0m\n\u001b[1;32m    123\u001b[0m     \u001b[0;32mif\u001b[0m \u001b[0mHf_symbolic\u001b[0m\u001b[0;34m:\u001b[0m\u001b[0;34m\u001b[0m\u001b[0;34m\u001b[0m\u001b[0m\n\u001b[0;32m--> 124\u001b[0;31m         \u001b[0mHfeval\u001b[0m \u001b[0;34m=\u001b[0m \u001b[0mHf_symbolic\u001b[0m\u001b[0;34m(\u001b[0m\u001b[0mx\u001b[0m\u001b[0;34m,\u001b[0m\u001b[0mSigma\u001b[0m\u001b[0;34m)\u001b[0m\u001b[0;34m\u001b[0m\u001b[0;34m\u001b[0m\u001b[0m\n\u001b[0m\u001b[1;32m    125\u001b[0m     \u001b[0;32melse\u001b[0m\u001b[0;34m:\u001b[0m\u001b[0;34m\u001b[0m\u001b[0;34m\u001b[0m\u001b[0m\n\u001b[1;32m    126\u001b[0m         \u001b[0mHfeval\u001b[0m \u001b[0;34m=\u001b[0m \u001b[0mHessian_approximation\u001b[0m\u001b[0;34m(\u001b[0m\u001b[0mf\u001b[0m\u001b[0;34m,\u001b[0m\u001b[0mx\u001b[0m\u001b[0;34m)\u001b[0m\u001b[0;34m\u001b[0m\u001b[0;34m\u001b[0m\u001b[0m\n",
            "\u001b[0;31mTypeError\u001b[0m: Hfo_cp_mark() takes 1 positional argument but 2 were given"
          ]
        }
      ]
    },
    {
      "cell_type": "markdown",
      "metadata": {
        "id": "LMlhCxA6pIhN",
        "colab_type": "text"
      },
      "source": [
        "La solución dada por el Método de Newton usando las funciones simbólicas es prácticamente igual al método cerrado método cerrado. Siendo el error de:\n"
      ]
    },
    {
      "cell_type": "code",
      "metadata": {
        "id": "-t32jUhBmTkx",
        "colab_type": "code",
        "colab": {}
      },
      "source": [
        "Err_plot[-1]"
      ],
      "execution_count": 0,
      "outputs": []
    },
    {
      "cell_type": "code",
      "metadata": {
        "id": "ELOnoaRVmTfT",
        "colab_type": "code",
        "colab": {}
      },
      "source": [
        "w"
      ],
      "execution_count": 0,
      "outputs": []
    },
    {
      "cell_type": "code",
      "metadata": {
        "id": "rvvp4x-jpM-Z",
        "colab_type": "code",
        "colab": {}
      },
      "source": [
        "w_ast"
      ],
      "execution_count": 0,
      "outputs": []
    },
    {
      "cell_type": "markdown",
      "metadata": {
        "id": "ACFww20QpQdp",
        "colab_type": "text"
      },
      "source": [
        "La varianza entre ambos métodos también es prácticamente la misma"
      ]
    },
    {
      "cell_type": "code",
      "metadata": {
        "id": "UcZUM7--pPur",
        "colab_type": "code",
        "colab": {}
      },
      "source": [
        "w@S@w"
      ],
      "execution_count": 0,
      "outputs": []
    },
    {
      "cell_type": "code",
      "metadata": {
        "id": "QgOCQND6pTbg",
        "colab_type": "code",
        "colab": {}
      },
      "source": [
        "w_ast@S@w_ast"
      ],
      "execution_count": 0,
      "outputs": []
    },
    {
      "cell_type": "code",
      "metadata": {
        "id": "SWlEnHM5pUb0",
        "colab_type": "code",
        "colab": {}
      },
      "source": [
        "utils.compute_error(w@S@w,w_ast@S@w_ast)"
      ],
      "execution_count": 0,
      "outputs": []
    },
    {
      "cell_type": "markdown",
      "metadata": {
        "id": "fU2bbYMVpWPU",
        "colab_type": "text"
      },
      "source": [
        "Y de igual manera cumple con la restricción del rendimiento y la suma de pesos igual a 1"
      ]
    },
    {
      "cell_type": "code",
      "metadata": {
        "id": "h3InL2T4pX1h",
        "colab_type": "code",
        "colab": {}
      },
      "source": [
        "w@mu"
      ],
      "execution_count": 0,
      "outputs": []
    },
    {
      "cell_type": "code",
      "metadata": {
        "id": "0rs8PruipZZp",
        "colab_type": "code",
        "colab": {}
      },
      "source": [
        "utils.compute_error(w@mu, r)"
      ],
      "execution_count": 0,
      "outputs": []
    },
    {
      "cell_type": "code",
      "metadata": {
        "id": "4sdKzSQ8pbPa",
        "colab_type": "code",
        "colab": {}
      },
      "source": [
        "sum(w)"
      ],
      "execution_count": 0,
      "outputs": []
    },
    {
      "cell_type": "markdown",
      "metadata": {
        "id": "Tw-mMX-6j_fC",
        "colab_type": "text"
      },
      "source": [
        "# Resultados\n"
      ]
    },
    {
      "cell_type": "code",
      "metadata": {
        "id": "o0fAWoMomJNQ",
        "colab_type": "code",
        "colab": {}
      },
      "source": [
        ""
      ],
      "execution_count": 0,
      "outputs": []
    },
    {
      "cell_type": "markdown",
      "metadata": {
        "id": "QH4VhQ-GPfsk",
        "colab_type": "text"
      },
      "source": [
        "\n",
        "\n",
        "**1. Documentacion**\n",
        "\n",
        "La Documentación de las funciones expresa de manera clara, consica y breve lo que hace cada una. De igual forma se explican de manera clara y concisa los argumentos de entrada y salida. La documentación es completa.\n",
        "\n",
        "\n",
        "**2. Cumplimiento de objetivos del código**\n",
        "\n",
        "Las funciones cumplen con sus objetivos.\n",
        "\n",
        "**3. Test 1**\n",
        "\n",
        "Revisaremos las función con distintas iteraciones y tolerancias.\n"
      ]
    },
    {
      "cell_type": "markdown",
      "metadata": {
        "id": "LFv8rbA_Qju9",
        "colab_type": "text"
      },
      "source": [
        "## Método de Newton usando diferencias finitas"
      ]
    },
    {
      "cell_type": "code",
      "metadata": {
        "id": "uclLNngLS4i0",
        "colab_type": "code",
        "outputId": "77586330-980a-4dcc-b440-7c4dcb80d618",
        "colab": {
          "base_uri": "https://localhost:8080/",
          "height": 35
        }
      },
      "source": [
        "stocks = ['COP','AMT','LIN','LMT','AMZN','WMT','JNJ','VTI','MSFT','GOOG','XOM','CCI','BHP.AX','UNP',\n",
        "'BABA','NSRGY','RHHBY','VOO','AAPL','FB','CVX','PLD','RIO.L','HON','HD','PG','UNH','BRK-A','V','0700.HK',\n",
        "'RDSA.AS','0688.HK','AI.PA','RTX','MC.PA','KO','PFE','JPM','005930.KS','VZ','RELIANCE.NS','DLR','2010.SR',\n",
        "'UPS','7203.T','PEP','MRK','1398.HK','MA','T']\n",
        "\n",
        "datos = extrae.extraer_datos_yahoo(stocks)"
      ],
      "execution_count": 0,
      "outputs": [
        {
          "output_type": "stream",
          "text": [
            "[*********************100%***********************]  50 of 50 downloaded\n"
          ],
          "name": "stdout"
        }
      ]
    },
    {
      "cell_type": "code",
      "metadata": {
        "id": "RmCwWfnwS5cJ",
        "colab_type": "code",
        "outputId": "ed2083eb-3b37-467d-81aa-977c5a94d6f0",
        "colab": {
          "base_uri": "https://localhost:8080/",
          "height": 35
        }
      },
      "source": [
        "mu = aux.calcular_rendimiento(datos)\n",
        "S = aux.calcular_varianza(datos)\n",
        "r=max(mu).item()\n",
        "r"
      ],
      "execution_count": 0,
      "outputs": [
        {
          "output_type": "execute_result",
          "data": {
            "text/plain": [
              "0.4022108787760788"
            ]
          },
          "metadata": {
            "tags": []
          },
          "execution_count": 119
        }
      ]
    },
    {
      "cell_type": "code",
      "metadata": {
        "id": "3sC12lxnZHgy",
        "colab_type": "code",
        "colab": {}
      },
      "source": [
        "fo = lambda w: w@S@w"
      ],
      "execution_count": 0,
      "outputs": []
    },
    {
      "cell_type": "code",
      "metadata": {
        "id": "Oli6B4qtZJyE",
        "colab_type": "code",
        "colab": {}
      },
      "source": [
        "\n",
        "w_ast = mkv.markowitz(r,mu,S)\n",
        "n = mu.shape[0]\n",
        "#Matriz A de restricciones\n",
        "A = cp.concatenate((mu,cp.ones(n))).reshape(2,n)\n",
        "#Vector b\n",
        "b = cp.array([r,1])\n",
        "#Punto inicial\n",
        "w_0 = utils.feasible_markowitz(r,mu)"
      ],
      "execution_count": 0,
      "outputs": []
    },
    {
      "cell_type": "code",
      "metadata": {
        "id": "RaDuez2iggTN",
        "colab_type": "code",
        "colab": {}
      },
      "source": [
        "#Newton\n",
        "tol=1e-8\n",
        "tol_backtracking=1e-14\n",
        "p_ast=fo(w_ast)\n",
        "maxiter=50"
      ],
      "execution_count": 0,
      "outputs": []
    },
    {
      "cell_type": "code",
      "metadata": {
        "id": "Rmx6cKbwgiNW",
        "colab_type": "code",
        "outputId": "66e54d7a-5cb9-4350-84b5-604138ba28e1",
        "colab": {
          "base_uri": "https://localhost:8080/",
          "height": 366
        }
      },
      "source": [
        "[w,total_of_iterations,Err_plot,x_plot]=opt.Newtons_method_feasible_init_point(fo,A, w_0,tol, tol_backtracking, w_ast, p_ast, maxiter)\n",
        "#Error\n",
        "Err_plot[-1]"
      ],
      "execution_count": 0,
      "outputs": [
        {
          "output_type": "stream",
          "text": [
            "I\tNormgf \tNewton Decrement\tError x_ast\tError p_ast\tline search\tCondHf\n",
            "0\t0.0019\t0.0009\t1.1003\t4.6964\t---\t\t9106.4419\n",
            "1\t0.0019\t0.0\t0.0519\t0.0002\t1\t9106.4419\n",
            "2\t0.0019\t0.0\t0.0011\t0.0\t1\t9106.4419\n",
            "Error of x with respect to x_ast: 0.001127150983856773\n",
            "Approximate solution: [ 1.58457339e-01 -2.08741235e-02  1.58048326e-01 -9.29138166e-02\n",
            "  3.17141968e-02  5.10597926e-02  8.71698378e-02  1.26222820e-02\n",
            "  3.73103239e-02  2.86001815e-01 -5.98311667e-03  2.24920151e-03\n",
            "  2.03043452e-01  9.45485132e-02  2.28809490e-02  1.50024690e-02\n",
            "  7.61398944e-03  2.96568690e-02  5.76541033e-02  1.98006493e-01\n",
            "  1.19877049e-01  1.27872221e-01  1.41306093e-01  1.35845928e-02\n",
            "  8.83981380e-02  1.50482374e-01  1.69291553e-01  7.72193492e-02\n",
            "  8.09252901e-02  8.24873544e-02  1.92209866e-01 -2.38880957e-02\n",
            "  2.64351117e-02  7.69369561e-02  2.20693714e-02 -1.08235150e-01\n",
            "  1.64055378e-01  1.76685729e-02  6.16358264e-02 -1.08221874e-01\n",
            " -5.02892406e-02  1.38835528e-01  1.03568021e-01 -4.28391427e-02\n",
            "  1.07287887e-02 -2.33508879e+00  1.91830496e-01  2.63308925e-01\n",
            "  1.20094625e-01 -1.05528084e-01]\n"
          ],
          "name": "stdout"
        },
        {
          "output_type": "execute_result",
          "data": {
            "text/plain": [
              "5.656699633119922e-08"
            ]
          },
          "metadata": {
            "tags": []
          },
          "execution_count": 123
        }
      ]
    },
    {
      "cell_type": "code",
      "metadata": {
        "id": "QUw4p0MOgj-_",
        "colab_type": "code",
        "outputId": "6833a4bb-16d4-4bef-c910-d0f94e789491",
        "colab": {
          "base_uri": "https://localhost:8080/",
          "height": 72
        }
      },
      "source": [
        "print('Error w: ', utils.compute_error(w@S@w,w_ast@S@w_ast))\n",
        "print('Error r: ', utils.compute_error(w@mu, r))\n",
        "print('Error suma de pesos: ', abs(((sum(w)-1)/(sum(w)))))"
      ],
      "execution_count": 0,
      "outputs": [
        {
          "output_type": "stream",
          "text": [
            "Error w:  5.656699313137432e-08\n",
            "Error r:  1.380150417616186e-16\n",
            "Error suma de pesos:  5.551115123125786e-16\n"
          ],
          "name": "stdout"
        }
      ]
    },
    {
      "cell_type": "code",
      "metadata": {
        "id": "EJE1GRsugvt4",
        "colab_type": "code",
        "colab": {}
      },
      "source": [
        "#Newton\n",
        "tol=1e-8\n",
        "tol_backtracking=1e-14\n",
        "p_ast=fo(w_ast)\n",
        "maxiter=500"
      ],
      "execution_count": 0,
      "outputs": []
    },
    {
      "cell_type": "code",
      "metadata": {
        "id": "TLtDQycpgv5r",
        "colab_type": "code",
        "outputId": "b6cbf328-77d7-46ab-edb5-3224a9cdd34e",
        "colab": {
          "base_uri": "https://localhost:8080/",
          "height": 366
        }
      },
      "source": [
        "[w,total_of_iterations,Err_plot,x_plot]=opt.Newtons_method_feasible_init_point(fo,A, w_0,tol, tol_backtracking, w_ast, p_ast, maxiter)\n",
        "#Error\n",
        "Err_plot[-1]"
      ],
      "execution_count": 0,
      "outputs": [
        {
          "output_type": "stream",
          "text": [
            "I\tNormgf \tNewton Decrement\tError x_ast\tError p_ast\tline search\tCondHf\n",
            "0\t0.0019\t0.0009\t1.1003\t4.6964\t---\t\t9106.4419\n",
            "1\t0.0019\t0.0\t0.0519\t0.0002\t1\t9106.4419\n",
            "2\t0.0019\t0.0\t0.0011\t0.0\t1\t9106.4419\n",
            "Error of x with respect to x_ast: 0.001127150983856773\n",
            "Approximate solution: [ 1.58457339e-01 -2.08741235e-02  1.58048326e-01 -9.29138166e-02\n",
            "  3.17141968e-02  5.10597926e-02  8.71698378e-02  1.26222820e-02\n",
            "  3.73103239e-02  2.86001815e-01 -5.98311667e-03  2.24920151e-03\n",
            "  2.03043452e-01  9.45485132e-02  2.28809490e-02  1.50024690e-02\n",
            "  7.61398944e-03  2.96568690e-02  5.76541033e-02  1.98006493e-01\n",
            "  1.19877049e-01  1.27872221e-01  1.41306093e-01  1.35845928e-02\n",
            "  8.83981380e-02  1.50482374e-01  1.69291553e-01  7.72193492e-02\n",
            "  8.09252901e-02  8.24873544e-02  1.92209866e-01 -2.38880957e-02\n",
            "  2.64351117e-02  7.69369561e-02  2.20693714e-02 -1.08235150e-01\n",
            "  1.64055378e-01  1.76685729e-02  6.16358264e-02 -1.08221874e-01\n",
            " -5.02892406e-02  1.38835528e-01  1.03568021e-01 -4.28391427e-02\n",
            "  1.07287887e-02 -2.33508879e+00  1.91830496e-01  2.63308925e-01\n",
            "  1.20094625e-01 -1.05528084e-01]\n"
          ],
          "name": "stdout"
        },
        {
          "output_type": "execute_result",
          "data": {
            "text/plain": [
              "5.656699633119922e-08"
            ]
          },
          "metadata": {
            "tags": []
          },
          "execution_count": 126
        }
      ]
    },
    {
      "cell_type": "code",
      "metadata": {
        "id": "IGUp1hN9gwAf",
        "colab_type": "code",
        "outputId": "f52216a2-3cae-43c5-90df-bf23773da580",
        "colab": {
          "base_uri": "https://localhost:8080/",
          "height": 72
        }
      },
      "source": [
        "print('Error w: ', utils.compute_error(w@S@w,w_ast@S@w_ast))\n",
        "print('Error r: ', utils.compute_error(w@mu, r))\n",
        "print('Error suma de pesos: ', abs(((sum(w)-1)/(sum(w)))))"
      ],
      "execution_count": 0,
      "outputs": [
        {
          "output_type": "stream",
          "text": [
            "Error w:  5.656699313137432e-08\n",
            "Error r:  1.380150417616186e-16\n",
            "Error suma de pesos:  5.551115123125786e-16\n"
          ],
          "name": "stdout"
        }
      ]
    },
    {
      "cell_type": "code",
      "metadata": {
        "id": "7a1Np82Ug7I5",
        "colab_type": "code",
        "colab": {}
      },
      "source": [
        "#Newton\n",
        "tol=1e-10\n",
        "tol_backtracking=1e-14\n",
        "p_ast=fo(w_ast)\n",
        "maxiter=500"
      ],
      "execution_count": 0,
      "outputs": []
    },
    {
      "cell_type": "code",
      "metadata": {
        "id": "5E4Vc6-Vg7F8",
        "colab_type": "code",
        "outputId": "d2cff3a4-485e-4878-f0fa-a4d4ca323913",
        "colab": {
          "base_uri": "https://localhost:8080/",
          "height": 366
        }
      },
      "source": [
        "[w,total_of_iterations,Err_plot,x_plot]=opt.Newtons_method_feasible_init_point(fo,A, w_0,tol, tol_backtracking, w_ast, p_ast, maxiter)\n",
        "#Error\n",
        "Err_plot[-1]"
      ],
      "execution_count": 0,
      "outputs": [
        {
          "output_type": "stream",
          "text": [
            "I\tNormgf \tNewton Decrement\tError x_ast\tError p_ast\tline search\tCondHf\n",
            "0\t0.0019\t0.0009\t1.1003\t4.6964\t---\t\t9106.4419\n",
            "1\t0.0019\t0.0\t0.0519\t0.0002\t1\t9106.4419\n",
            "2\t0.0019\t0.0\t0.0011\t0.0\t1\t9106.4419\n",
            "Error of x with respect to x_ast: 0.001127150983856773\n",
            "Approximate solution: [ 1.58457339e-01 -2.08741235e-02  1.58048326e-01 -9.29138166e-02\n",
            "  3.17141968e-02  5.10597926e-02  8.71698378e-02  1.26222820e-02\n",
            "  3.73103239e-02  2.86001815e-01 -5.98311667e-03  2.24920151e-03\n",
            "  2.03043452e-01  9.45485132e-02  2.28809490e-02  1.50024690e-02\n",
            "  7.61398944e-03  2.96568690e-02  5.76541033e-02  1.98006493e-01\n",
            "  1.19877049e-01  1.27872221e-01  1.41306093e-01  1.35845928e-02\n",
            "  8.83981380e-02  1.50482374e-01  1.69291553e-01  7.72193492e-02\n",
            "  8.09252901e-02  8.24873544e-02  1.92209866e-01 -2.38880957e-02\n",
            "  2.64351117e-02  7.69369561e-02  2.20693714e-02 -1.08235150e-01\n",
            "  1.64055378e-01  1.76685729e-02  6.16358264e-02 -1.08221874e-01\n",
            " -5.02892406e-02  1.38835528e-01  1.03568021e-01 -4.28391427e-02\n",
            "  1.07287887e-02 -2.33508879e+00  1.91830496e-01  2.63308925e-01\n",
            "  1.20094625e-01 -1.05528084e-01]\n"
          ],
          "name": "stdout"
        },
        {
          "output_type": "execute_result",
          "data": {
            "text/plain": [
              "5.656699633119922e-08"
            ]
          },
          "metadata": {
            "tags": []
          },
          "execution_count": 129
        }
      ]
    },
    {
      "cell_type": "code",
      "metadata": {
        "id": "-zk4X5lIg7Cq",
        "colab_type": "code",
        "outputId": "6e2799f1-c2a1-44bc-fdf1-ac88cb2caa87",
        "colab": {
          "base_uri": "https://localhost:8080/",
          "height": 72
        }
      },
      "source": [
        "print('Error w: ', utils.compute_error(w@S@w,w_ast@S@w_ast))\n",
        "print('Error r: ', utils.compute_error(w@mu, r))\n",
        "print('Error suma de pesos: ', abs(((sum(w)-1)/(sum(w))))). "
      ],
      "execution_count": 0,
      "outputs": [
        {
          "output_type": "stream",
          "text": [
            "Error w:  5.656699313137432e-08\n",
            "Error r:  1.380150417616186e-16\n",
            "Error suma de pesos:  5.551115123125786e-16\n"
          ],
          "name": "stdout"
        }
      ]
    },
    {
      "cell_type": "code",
      "metadata": {
        "id": "v_U58Xqig6_p",
        "colab_type": "code",
        "colab": {}
      },
      "source": [
        "#Newton\n",
        "tol=1e-14\n",
        "tol_backtracking=1e-14\n",
        "p_ast=fo(w_ast)\n",
        "maxiter=500"
      ],
      "execution_count": 0,
      "outputs": []
    },
    {
      "cell_type": "code",
      "metadata": {
        "id": "WNhjTkkAg68Z",
        "colab_type": "code",
        "outputId": "c8924609-f51d-4e71-e9e7-058edecce5dd",
        "colab": {
          "base_uri": "https://localhost:8080/",
          "height": 384
        }
      },
      "source": [
        "[w,total_of_iterations,Err_plot,x_plot]=opt.Newtons_method_feasible_init_point(fo,A, w_0,tol, tol_backtracking, w_ast, p_ast, maxiter)\n",
        "#Error\n",
        "Err_plot[-1]"
      ],
      "execution_count": 0,
      "outputs": [
        {
          "output_type": "stream",
          "text": [
            "I\tNormgf \tNewton Decrement\tError x_ast\tError p_ast\tline search\tCondHf\n",
            "0\t0.0019\t0.0009\t1.1003\t4.6964\t---\t\t9106.4419\n",
            "1\t0.0019\t0.0\t0.0519\t0.0002\t1\t9106.4419\n",
            "2\t0.0019\t0.0\t0.0011\t0.0\t1\t9106.4419\n",
            "3\t0.0019\t0.0\t0.0\t0.0\t1\t9106.4419\n",
            "Error of x with respect to x_ast: 9.544841998625444e-06\n",
            "Approximate solution: [ 1.58458855e-01 -2.08781432e-02  1.58050218e-01 -9.29027124e-02\n",
            "  3.17230503e-02  5.10664183e-02  8.71685449e-02  1.26299781e-02\n",
            "  3.73036140e-02  2.85996329e-01 -5.98471812e-03  2.24716268e-03\n",
            "  2.03076331e-01  9.45639768e-02  2.28968193e-02  1.49818375e-02\n",
            "  7.60512112e-03  2.96664083e-02  5.76561333e-02  1.98022653e-01\n",
            "  1.19945869e-01  1.27860419e-01  1.41282215e-01  1.36057804e-02\n",
            "  8.83763299e-02  1.50470160e-01  1.69300312e-01  7.72104560e-02\n",
            "  8.09291837e-02  8.24697139e-02  1.92193230e-01 -2.39503930e-02\n",
            "  2.64539815e-02  7.69287904e-02  2.20943127e-02 -1.08211855e-01\n",
            "  1.64050712e-01  1.76898387e-02  6.16386869e-02 -1.08219827e-01\n",
            " -5.02639569e-02  1.38831445e-01  1.03577550e-01 -4.28275106e-02\n",
            "  1.07248828e-02 -2.33316913e+00  1.89856058e-01  2.63269888e-01\n",
            "  1.20087365e-01 -1.05552387e-01]\n"
          ],
          "name": "stdout"
        },
        {
          "output_type": "execute_result",
          "data": {
            "text/plain": [
              "7.201681953971882e-12"
            ]
          },
          "metadata": {
            "tags": []
          },
          "execution_count": 132
        }
      ]
    },
    {
      "cell_type": "code",
      "metadata": {
        "id": "MxBliXZPg65U",
        "colab_type": "code",
        "outputId": "ae14cafb-bb82-4ede-99f0-07192ce94eac",
        "colab": {
          "base_uri": "https://localhost:8080/",
          "height": 72
        }
      },
      "source": [
        "print('Error w: ', utils.compute_error(w@S@w,w_ast@S@w_ast))\n",
        "print('Error r: ', utils.compute_error(w@mu, r))\n",
        "print('Error suma de pesos: ', abs(((sum(w)-1)/(sum(w)))))"
      ],
      "execution_count": 0,
      "outputs": [
        {
          "output_type": "stream",
          "text": [
            "Error w:  7.201681953920019e-12\n",
            "Error r:  2.7603008352323725e-16\n",
            "Error suma de pesos:  2.2204460492503136e-16\n"
          ],
          "name": "stdout"
        }
      ]
    },
    {
      "cell_type": "code",
      "metadata": {
        "id": "_p-LJym2g62O",
        "colab_type": "code",
        "colab": {}
      },
      "source": [
        "#Newton\n",
        "tol=1e-16\n",
        "tol_backtracking=1e-15\n",
        "p_ast=fo(w_ast)\n",
        "maxiter=500"
      ],
      "execution_count": 0,
      "outputs": []
    },
    {
      "cell_type": "code",
      "metadata": {
        "id": "i4VyR_Ufg6yg",
        "colab_type": "code",
        "outputId": "57649184-e6b8-4e93-d35f-c540bb7cd048",
        "colab": {
          "base_uri": "https://localhost:8080/",
          "height": 403
        }
      },
      "source": [
        "[w,total_of_iterations,Err_plot,x_plot]=opt.Newtons_method_feasible_init_point(fo,A, w_0,tol, tol_backtracking, w_ast, p_ast, maxiter)\n",
        "#Error\n",
        "Err_plot[-1]"
      ],
      "execution_count": 0,
      "outputs": [
        {
          "output_type": "stream",
          "text": [
            "I\tNormgf \tNewton Decrement\tError x_ast\tError p_ast\tline search\tCondHf\n",
            "0\t0.0019\t0.0009\t1.1003\t4.6964\t---\t\t9106.4419\n",
            "1\t0.0019\t0.0\t0.0519\t0.0002\t1\t9106.4419\n",
            "2\t0.0019\t0.0\t0.0011\t0.0\t1\t9106.4419\n",
            "3\t0.0019\t0.0\t0.0\t0.0\t1\t9106.4419\n",
            "4\t0.0019\t0.0\t0.0\t0.0\t1\t9106.4419\n",
            "Error of x with respect to x_ast: 1.7551040903728132e-07\n",
            "Approximate solution: [ 1.58458815e-01 -2.08781779e-02  1.58050235e-01 -9.29026415e-02\n",
            "  3.17230574e-02  5.10667113e-02  8.71684745e-02  1.26297326e-02\n",
            "  3.73032546e-02  2.85996602e-01 -5.98443652e-03  2.24694816e-03\n",
            "  2.03077382e-01  9.45640142e-02  2.28968086e-02  1.49814625e-02\n",
            "  7.60490281e-03  2.96663815e-02  5.76561287e-02  1.98023121e-01\n",
            "  1.19945677e-01  1.27860429e-01  1.41282545e-01  1.36058259e-02\n",
            "  8.83766151e-02  1.50469900e-01  1.69301552e-01  7.72103006e-02\n",
            "  8.09296067e-02  8.24695180e-02  1.92193581e-01 -2.39500465e-02\n",
            "  2.64542318e-02  7.69285250e-02  2.20948215e-02 -1.08211713e-01\n",
            "  1.64050670e-01  1.76900936e-02  6.16387612e-02 -1.08219205e-01\n",
            " -5.02638359e-02  1.38831518e-01  1.03577688e-01 -4.28275717e-02\n",
            "  1.07238493e-02 -2.33315497e+00  1.89837842e-01  2.63269650e-01\n",
            "  1.20087137e-01 -1.05551770e-01]\n"
          ],
          "name": "stdout"
        },
        {
          "output_type": "execute_result",
          "data": {
            "text/plain": [
              "4.4124968505905025e-14"
            ]
          },
          "metadata": {
            "tags": []
          },
          "execution_count": 135
        }
      ]
    },
    {
      "cell_type": "code",
      "metadata": {
        "id": "bIvH8OY4g6u7",
        "colab_type": "code",
        "outputId": "c6969632-6634-450d-b9df-11b218e13afe",
        "colab": {
          "base_uri": "https://localhost:8080/",
          "height": 72
        }
      },
      "source": [
        "print('Error w: ', utils.compute_error(w@S@w,w_ast@S@w_ast))\n",
        "print('Error r: ', utils.compute_error(w@mu, r))\n",
        "print('Error suma de pesos: ', abs(((sum(w)-1)/(sum(w)))))"
      ],
      "execution_count": 0,
      "outputs": [
        {
          "output_type": "stream",
          "text": [
            "Error w:  4.412496850590308e-14\n",
            "Error r:  2.7603008352323725e-16\n",
            "Error suma de pesos:  0.0\n"
          ],
          "name": "stdout"
        }
      ]
    },
    {
      "cell_type": "markdown",
      "metadata": {
        "id": "2vHSGh9ghVhJ",
        "colab_type": "text"
      },
      "source": [
        "Ahora probamos con $r=0.3$"
      ]
    },
    {
      "cell_type": "code",
      "metadata": {
        "id": "tiN1ET0yg6rM",
        "colab_type": "code",
        "colab": {}
      },
      "source": [
        "r=0.3\n",
        "w_ast = mkv.markowitz(r,mu,S)\n",
        "n = mu.shape[0]\n",
        "#Matriz A de restricciones\n",
        "A = cp.concatenate((mu,cp.ones(n))).reshape(2,n)\n",
        "#Vector b\n",
        "b = cp.array([r,1])\n",
        "#Punto inicial\n",
        "w_0 = utils.feasible_markowitz(r,mu)"
      ],
      "execution_count": 0,
      "outputs": []
    },
    {
      "cell_type": "code",
      "metadata": {
        "id": "14HlhWSTg6mL",
        "colab_type": "code",
        "colab": {}
      },
      "source": [
        "#Newton\n",
        "tol=1e-8\n",
        "tol_backtracking=1e-14\n",
        "p_ast=fo(w_ast)\n",
        "maxiter=50\n"
      ],
      "execution_count": 0,
      "outputs": []
    },
    {
      "cell_type": "code",
      "metadata": {
        "id": "yMvFmPjjg6hb",
        "colab_type": "code",
        "outputId": "fd297543-e0b8-47dc-93c2-af0a441aff71",
        "colab": {
          "base_uri": "https://localhost:8080/",
          "height": 366
        }
      },
      "source": [
        "[w,total_of_iterations,Err_plot,x_plot]=opt.Newtons_method_feasible_init_point(fo,A, w_0,tol, tol_backtracking, w_ast, p_ast, maxiter)\n",
        "#Error\n",
        "Err_plot[-1]\n"
      ],
      "execution_count": 0,
      "outputs": [
        {
          "output_type": "stream",
          "text": [
            "I\tNormgf \tNewton Decrement\tError x_ast\tError p_ast\tline search\tCondHf\n",
            "0\t0.0025\t0.0021\t1.3834\t14.9538\t---\t\t10833.0647\n",
            "1\t0.0025\t0.0\t0.0952\t0.0006\t1\t10833.0647\n",
            "2\t0.0025\t0.0\t0.0009\t0.0\t1\t10833.0647\n",
            "Error of x with respect to x_ast: 0.0009264514312908206\n",
            "Approximate solution: [ 1.40214529e-01 -1.35978646e-02  1.10342203e-01 -4.37629688e-02\n",
            "  4.34481638e-02  6.25194998e-02  6.23053196e-02  3.43246639e-02\n",
            "  1.49933044e-02  2.18640943e-01 -1.88408397e-03  5.28946346e-04\n",
            "  1.90524989e-01  8.92946732e-02  3.28308824e-03  1.04742689e-02\n",
            "  6.47128709e-03  3.10463536e-02  5.03316129e-02  1.51109232e-01\n",
            "  8.36292265e-02  1.09266126e-01  7.70736027e-02  3.71989934e-02\n",
            "  7.11377668e-02  1.15367356e-01  1.14125980e-01  4.23057064e-02\n",
            "  5.81986153e-02  4.24170188e-02  1.85545535e-01 -3.65085609e-02\n",
            "  3.71677992e-02  7.24730267e-02 -3.16458803e-03 -8.39138211e-02\n",
            "  1.36152098e-01  2.41561648e-02  4.86535869e-02 -8.05813009e-02\n",
            " -4.61480746e-02  9.42917043e-02  8.09904372e-02 -2.07954306e-02\n",
            "  7.98583272e-03 -1.94037384e+00  3.29860868e-01  2.32946475e-01\n",
            "  1.10150910e-01 -6.02173775e-02]\n"
          ],
          "name": "stdout"
        },
        {
          "output_type": "execute_result",
          "data": {
            "text/plain": [
              "3.6329669678523636e-08"
            ]
          },
          "metadata": {
            "tags": []
          },
          "execution_count": 139
        }
      ]
    },
    {
      "cell_type": "code",
      "metadata": {
        "id": "xqaDWW3viaFc",
        "colab_type": "code",
        "outputId": "56271191-104f-4f02-b65f-91507f70d148",
        "colab": {
          "base_uri": "https://localhost:8080/",
          "height": 72
        }
      },
      "source": [
        "print('Error w: ', utils.compute_error(w@S@w,w_ast@S@w_ast))\n",
        "print('Error r: ', utils.compute_error(w@mu, r))\n",
        "print('Error suma de pesos: ', abs(((sum(w)-1)/(sum(w)))))"
      ],
      "execution_count": 0,
      "outputs": [
        {
          "output_type": "stream",
          "text": [
            "Error w:  3.6329668358678783e-08\n",
            "Error r:  1.8503717077085946e-16\n",
            "Error suma de pesos:  1.1102230246251554e-15\n"
          ],
          "name": "stdout"
        }
      ]
    },
    {
      "cell_type": "code",
      "metadata": {
        "id": "S_PeK1fHice2",
        "colab_type": "code",
        "colab": {}
      },
      "source": [
        "#Newton\n",
        "tol=1e-8\n",
        "tol_backtracking=1e-14\n",
        "p_ast=fo(w_ast)\n",
        "maxiter=500"
      ],
      "execution_count": 0,
      "outputs": []
    },
    {
      "cell_type": "code",
      "metadata": {
        "id": "UwNyMkN_if2A",
        "colab_type": "code",
        "outputId": "cf4dea9c-71b0-4d23-8552-a04d1a0861a4",
        "colab": {
          "base_uri": "https://localhost:8080/",
          "height": 366
        }
      },
      "source": [
        "[w,total_of_iterations,Err_plot,x_plot]=opt.Newtons_method_feasible_init_point(fo,A, w_0,tol, tol_backtracking, w_ast, p_ast, maxiter)\n",
        "#Error\n",
        "Err_plot[-1]"
      ],
      "execution_count": 0,
      "outputs": [
        {
          "output_type": "stream",
          "text": [
            "I\tNormgf \tNewton Decrement\tError x_ast\tError p_ast\tline search\tCondHf\n",
            "0\t0.0025\t0.0021\t1.3834\t14.9538\t---\t\t10833.0647\n",
            "1\t0.0025\t0.0\t0.0952\t0.0006\t1\t10833.0647\n",
            "2\t0.0025\t0.0\t0.0009\t0.0\t1\t10833.0647\n",
            "Error of x with respect to x_ast: 0.0009264514312908206\n",
            "Approximate solution: [ 1.40214529e-01 -1.35978646e-02  1.10342203e-01 -4.37629688e-02\n",
            "  4.34481638e-02  6.25194998e-02  6.23053196e-02  3.43246639e-02\n",
            "  1.49933044e-02  2.18640943e-01 -1.88408397e-03  5.28946346e-04\n",
            "  1.90524989e-01  8.92946732e-02  3.28308824e-03  1.04742689e-02\n",
            "  6.47128709e-03  3.10463536e-02  5.03316129e-02  1.51109232e-01\n",
            "  8.36292265e-02  1.09266126e-01  7.70736027e-02  3.71989934e-02\n",
            "  7.11377668e-02  1.15367356e-01  1.14125980e-01  4.23057064e-02\n",
            "  5.81986153e-02  4.24170188e-02  1.85545535e-01 -3.65085609e-02\n",
            "  3.71677992e-02  7.24730267e-02 -3.16458803e-03 -8.39138211e-02\n",
            "  1.36152098e-01  2.41561648e-02  4.86535869e-02 -8.05813009e-02\n",
            " -4.61480746e-02  9.42917043e-02  8.09904372e-02 -2.07954306e-02\n",
            "  7.98583272e-03 -1.94037384e+00  3.29860868e-01  2.32946475e-01\n",
            "  1.10150910e-01 -6.02173775e-02]\n"
          ],
          "name": "stdout"
        },
        {
          "output_type": "execute_result",
          "data": {
            "text/plain": [
              "3.6329669678523636e-08"
            ]
          },
          "metadata": {
            "tags": []
          },
          "execution_count": 142
        }
      ]
    },
    {
      "cell_type": "code",
      "metadata": {
        "id": "oIkmvR1BigPE",
        "colab_type": "code",
        "outputId": "88dfd371-5aab-481e-ffed-bd574a6d84f6",
        "colab": {
          "base_uri": "https://localhost:8080/",
          "height": 72
        }
      },
      "source": [
        "print('Error w: ', utils.compute_error(w@S@w,w_ast@S@w_ast))\n",
        "print('Error r: ', utils.compute_error(w@mu, r))\n",
        "print('Error suma de pesos: ', abs(((sum(w)-1)/(sum(w)))))"
      ],
      "execution_count": 0,
      "outputs": [
        {
          "output_type": "stream",
          "text": [
            "Error w:  3.6329668358678783e-08\n",
            "Error r:  1.8503717077085946e-16\n",
            "Error suma de pesos:  1.1102230246251554e-15\n"
          ],
          "name": "stdout"
        }
      ]
    },
    {
      "cell_type": "code",
      "metadata": {
        "id": "qVl2-RwbigLM",
        "colab_type": "code",
        "colab": {}
      },
      "source": [
        "#Newton\n",
        "tol=1e-10\n",
        "tol_backtracking=1e-14\n",
        "p_ast=fo(w_ast)\n",
        "maxiter=500"
      ],
      "execution_count": 0,
      "outputs": []
    },
    {
      "cell_type": "code",
      "metadata": {
        "id": "tMV5UWX9igHN",
        "colab_type": "code",
        "outputId": "f7850986-4fe2-4f55-e77a-6f444727ffe8",
        "colab": {
          "base_uri": "https://localhost:8080/",
          "height": 366
        }
      },
      "source": [
        "[w,total_of_iterations,Err_plot,x_plot]=opt.Newtons_method_feasible_init_point(fo,A, w_0,tol, tol_backtracking, w_ast, p_ast, maxiter)\n",
        "#Error\n",
        "Err_plot[-1]"
      ],
      "execution_count": 0,
      "outputs": [
        {
          "output_type": "stream",
          "text": [
            "I\tNormgf \tNewton Decrement\tError x_ast\tError p_ast\tline search\tCondHf\n",
            "0\t0.0025\t0.0021\t1.3834\t14.9538\t---\t\t10833.0647\n",
            "1\t0.0025\t0.0\t0.0952\t0.0006\t1\t10833.0647\n",
            "2\t0.0025\t0.0\t0.0009\t0.0\t1\t10833.0647\n",
            "Error of x with respect to x_ast: 0.0009264514312908206\n",
            "Approximate solution: [ 1.40214529e-01 -1.35978646e-02  1.10342203e-01 -4.37629688e-02\n",
            "  4.34481638e-02  6.25194998e-02  6.23053196e-02  3.43246639e-02\n",
            "  1.49933044e-02  2.18640943e-01 -1.88408397e-03  5.28946346e-04\n",
            "  1.90524989e-01  8.92946732e-02  3.28308824e-03  1.04742689e-02\n",
            "  6.47128709e-03  3.10463536e-02  5.03316129e-02  1.51109232e-01\n",
            "  8.36292265e-02  1.09266126e-01  7.70736027e-02  3.71989934e-02\n",
            "  7.11377668e-02  1.15367356e-01  1.14125980e-01  4.23057064e-02\n",
            "  5.81986153e-02  4.24170188e-02  1.85545535e-01 -3.65085609e-02\n",
            "  3.71677992e-02  7.24730267e-02 -3.16458803e-03 -8.39138211e-02\n",
            "  1.36152098e-01  2.41561648e-02  4.86535869e-02 -8.05813009e-02\n",
            " -4.61480746e-02  9.42917043e-02  8.09904372e-02 -2.07954306e-02\n",
            "  7.98583272e-03 -1.94037384e+00  3.29860868e-01  2.32946475e-01\n",
            "  1.10150910e-01 -6.02173775e-02]\n"
          ],
          "name": "stdout"
        },
        {
          "output_type": "execute_result",
          "data": {
            "text/plain": [
              "3.6329669678523636e-08"
            ]
          },
          "metadata": {
            "tags": []
          },
          "execution_count": 145
        }
      ]
    },
    {
      "cell_type": "code",
      "metadata": {
        "id": "2yNWnOgdigDp",
        "colab_type": "code",
        "outputId": "9da94387-b658-40a7-daaf-8d46f3cae289",
        "colab": {
          "base_uri": "https://localhost:8080/",
          "height": 72
        }
      },
      "source": [
        "print('Error w: ', utils.compute_error(w@S@w,w_ast@S@w_ast))\n",
        "print('Error r: ', utils.compute_error(w@mu, r))\n",
        "print('Error suma de pesos: ', abs(((sum(w)-1)/(sum(w)))))"
      ],
      "execution_count": 0,
      "outputs": [
        {
          "output_type": "stream",
          "text": [
            "Error w:  3.6329668358678783e-08\n",
            "Error r:  1.8503717077085946e-16\n",
            "Error suma de pesos:  1.1102230246251554e-15\n"
          ],
          "name": "stdout"
        }
      ]
    },
    {
      "cell_type": "code",
      "metadata": {
        "id": "cB5xTG6Eiuxt",
        "colab_type": "code",
        "colab": {}
      },
      "source": [
        "#Newton\n",
        "tol=1e-14\n",
        "tol_backtracking=1e-14\n",
        "p_ast=fo(w_ast)\n",
        "maxiter=500"
      ],
      "execution_count": 0,
      "outputs": []
    },
    {
      "cell_type": "code",
      "metadata": {
        "id": "zX2pwiEliutj",
        "colab_type": "code",
        "outputId": "a1b57c45-f82e-4169-9a95-14cd31e01717",
        "colab": {
          "base_uri": "https://localhost:8080/",
          "height": 384
        }
      },
      "source": [
        "[w,total_of_iterations,Err_plot,x_plot]=opt.Newtons_method_feasible_init_point(fo,A, w_0,tol, tol_backtracking, w_ast, p_ast, maxiter)\n",
        "#Error\n",
        "Err_plot[-1]"
      ],
      "execution_count": 0,
      "outputs": [
        {
          "output_type": "stream",
          "text": [
            "I\tNormgf \tNewton Decrement\tError x_ast\tError p_ast\tline search\tCondHf\n",
            "0\t0.0025\t0.0021\t1.3834\t14.9538\t---\t\t10833.0647\n",
            "1\t0.0025\t0.0\t0.0952\t0.0006\t1\t10833.0647\n",
            "2\t0.0025\t0.0\t0.0009\t0.0\t1\t10833.0647\n",
            "3\t0.0025\t0.0\t0.0\t0.0\t1\t10833.0647\n",
            "Error of x with respect to x_ast: 1.3312483485567576e-06\n",
            "Approximate solution: [ 1.40207439e-01 -1.35881195e-02  1.10340602e-01 -4.37791661e-02\n",
            "  4.34450279e-02  6.25287481e-02  6.23429655e-02  3.43328374e-02\n",
            "  1.50055433e-02  2.18632689e-01 -1.87368653e-03  5.28463589e-04\n",
            "  1.90508063e-01  8.93042717e-02  3.27681854e-03  1.04912283e-02\n",
            "  6.48286491e-03  3.10545150e-02  5.03437938e-02  1.51140538e-01\n",
            "  8.36218275e-02  1.09292640e-01  7.70769980e-02  3.72109498e-02\n",
            "  7.11397095e-02  1.15391539e-01  1.14129090e-01  4.23101917e-02\n",
            "  5.82056832e-02  4.24236015e-02  1.85527975e-01 -3.64909426e-02\n",
            "  3.71690877e-02  7.24600790e-02 -3.17248446e-03 -8.39242304e-02\n",
            "  1.36147032e-01  2.41482752e-02  4.86551473e-02 -8.05947862e-02\n",
            " -4.61601086e-02  9.42946500e-02  8.10036820e-02 -2.07991738e-02\n",
            "  7.98368669e-03 -1.94183667e+00  3.31096132e-01  2.32967156e-01\n",
            "  1.10169820e-01 -6.01719906e-02]\n"
          ],
          "name": "stdout"
        },
        {
          "output_type": "execute_result",
          "data": {
            "text/plain": [
              "1.5041258953619087e-12"
            ]
          },
          "metadata": {
            "tags": []
          },
          "execution_count": 148
        }
      ]
    },
    {
      "cell_type": "code",
      "metadata": {
        "id": "D-0_y1h7iup9",
        "colab_type": "code",
        "outputId": "23dd3c41-947c-46c3-ac5e-c71309668b90",
        "colab": {
          "base_uri": "https://localhost:8080/",
          "height": 72
        }
      },
      "source": [
        "print('Error w: ', utils.compute_error(w@S@w,w_ast@S@w_ast))\n",
        "print('Error r: ', utils.compute_error(w@mu, r))\n",
        "print('Error suma de pesos: ', abs(((sum(w)-1)/(sum(w)))))"
      ],
      "execution_count": 0,
      "outputs": [
        {
          "output_type": "stream",
          "text": [
            "Error w:  1.5041258953596462e-12\n",
            "Error r:  1.8503717077085946e-16\n",
            "Error suma de pesos:  4.440892098500624e-16\n"
          ],
          "name": "stdout"
        }
      ]
    },
    {
      "cell_type": "code",
      "metadata": {
        "id": "FE22PVMRiulO",
        "colab_type": "code",
        "colab": {}
      },
      "source": [
        "#Newton\n",
        "tol=1e-16\n",
        "tol_backtracking=1e-15\n",
        "p_ast=fo(w_ast)\n",
        "maxiter=500"
      ],
      "execution_count": 0,
      "outputs": []
    },
    {
      "cell_type": "code",
      "metadata": {
        "id": "dxRFkyGdigAK",
        "colab_type": "code",
        "outputId": "2a268e8a-f64a-45ed-adc0-c568b09da2fd",
        "colab": {
          "base_uri": "https://localhost:8080/",
          "height": 384
        }
      },
      "source": [
        "[w,total_of_iterations,Err_plot,x_plot]=opt.Newtons_method_feasible_init_point(fo,A, w_0,tol, tol_backtracking, w_ast, p_ast, maxiter)\n",
        "#Error\n",
        "Err_plot[-1]"
      ],
      "execution_count": 0,
      "outputs": [
        {
          "output_type": "stream",
          "text": [
            "I\tNormgf \tNewton Decrement\tError x_ast\tError p_ast\tline search\tCondHf\n",
            "0\t0.0025\t0.0021\t1.3834\t14.9538\t---\t\t10833.0647\n",
            "1\t0.0025\t0.0\t0.0952\t0.0006\t1\t10833.0647\n",
            "2\t0.0025\t0.0\t0.0009\t0.0\t1\t10833.0647\n",
            "3\t0.0025\t0.0\t0.0\t0.0\t1\t10833.0647\n",
            "Error of x with respect to x_ast: 1.3312483485567576e-06\n",
            "Approximate solution: [ 1.40207439e-01 -1.35881195e-02  1.10340602e-01 -4.37791661e-02\n",
            "  4.34450279e-02  6.25287481e-02  6.23429655e-02  3.43328374e-02\n",
            "  1.50055433e-02  2.18632689e-01 -1.87368653e-03  5.28463589e-04\n",
            "  1.90508063e-01  8.93042717e-02  3.27681854e-03  1.04912283e-02\n",
            "  6.48286491e-03  3.10545150e-02  5.03437938e-02  1.51140538e-01\n",
            "  8.36218275e-02  1.09292640e-01  7.70769980e-02  3.72109498e-02\n",
            "  7.11397095e-02  1.15391539e-01  1.14129090e-01  4.23101917e-02\n",
            "  5.82056832e-02  4.24236015e-02  1.85527975e-01 -3.64909426e-02\n",
            "  3.71690877e-02  7.24600790e-02 -3.17248446e-03 -8.39242304e-02\n",
            "  1.36147032e-01  2.41482752e-02  4.86551473e-02 -8.05947862e-02\n",
            " -4.61601086e-02  9.42946500e-02  8.10036820e-02 -2.07991738e-02\n",
            "  7.98368669e-03 -1.94183667e+00  3.31096132e-01  2.32967156e-01\n",
            "  1.10169820e-01 -6.01719906e-02]\n"
          ],
          "name": "stdout"
        },
        {
          "output_type": "execute_result",
          "data": {
            "text/plain": [
              "1.5041258953619087e-12"
            ]
          },
          "metadata": {
            "tags": []
          },
          "execution_count": 151
        }
      ]
    },
    {
      "cell_type": "code",
      "metadata": {
        "id": "V3OrKN_Xif8X",
        "colab_type": "code",
        "outputId": "970dbbbf-3ab2-44b9-9378-454811681a81",
        "colab": {
          "base_uri": "https://localhost:8080/",
          "height": 72
        }
      },
      "source": [
        "print('Error w: ', utils.compute_error(w@S@w,w_ast@S@w_ast))\n",
        "print('Error r: ', utils.compute_error(w@mu, r))\n",
        "print('Error suma de pesos: ', abs(((sum(w)-1)/(sum(w)))))"
      ],
      "execution_count": 0,
      "outputs": [
        {
          "output_type": "stream",
          "text": [
            "Error w:  1.5041258953596462e-12\n",
            "Error r:  1.8503717077085946e-16\n",
            "Error suma de pesos:  4.440892098500624e-16\n"
          ],
          "name": "stdout"
        }
      ]
    },
    {
      "cell_type": "markdown",
      "metadata": {
        "id": "2e3yxqY7i8L_",
        "colab_type": "text"
      },
      "source": [
        "Proseguimos a probar con $r=0.5$"
      ]
    },
    {
      "cell_type": "code",
      "metadata": {
        "id": "BAMNw7bsjCB3",
        "colab_type": "code",
        "colab": {}
      },
      "source": [
        "r=0.5\n",
        "w_ast = mkv.markowitz(r,mu,S)\n",
        "n = mu.shape[0]\n",
        "#Matriz A de restricciones\n",
        "A = cp.concatenate((mu,cp.ones(n))).reshape(2,n)\n",
        "#Vector b\n",
        "b = cp.array([r,1])\n",
        "#Punto inicial\n",
        "w_0 = utils.feasible_markowitz(r,mu)\n"
      ],
      "execution_count": 0,
      "outputs": []
    },
    {
      "cell_type": "code",
      "metadata": {
        "id": "_4p--vYmjClz",
        "colab_type": "code",
        "colab": {}
      },
      "source": [
        "#Newton\n",
        "tol=1e-8\n",
        "tol_backtracking=1e-14\n",
        "p_ast=fo(w_ast)\n",
        "maxiter=50"
      ],
      "execution_count": 0,
      "outputs": []
    },
    {
      "cell_type": "code",
      "metadata": {
        "id": "x5Fem2XWjDDN",
        "colab_type": "code",
        "outputId": "cb8d7287-8d58-40b6-97ef-cc80d6cc137b",
        "colab": {
          "base_uri": "https://localhost:8080/",
          "height": 311
        }
      },
      "source": [
        "[w,total_of_iterations,Err_plot,x_plot]=opt.Newtons_method_feasible_init_point(fo,A, w_0,tol, tol_backtracking, w_ast, p_ast, maxiter)\n",
        "#Error\n",
        "Err_plot[-1]"
      ],
      "execution_count": 0,
      "outputs": [
        {
          "output_type": "stream",
          "text": [
            "I\tNormgf \tNewton Decrement\tError x_ast\tError p_ast\tline search\tCondHf\n",
            "0\t0.0079\t0.0314\t3.348\t126.5304\t---\t\t4097.1375\n",
            "1\t0.0079\t0.0002\t2.982\t0.6798\t1\t4097.1375\n",
            "2\t0.0079\t0.0\t0.2817\t0.0046\t1\t4097.1375\n",
            "3\t0.0079\t0.0\t0.0097\t0.0\t1\t4097.1375\n",
            "Error of x with respect to x_ast: 0.009735388725341918\n",
            "Approximate solution: [ 0.17592274 -0.02787265  0.20365926 -0.14000254  0.02052592  0.04005779\n",
            "  0.11104618 -0.00835434  0.05850248  0.35042404 -0.00984593  0.00390479\n",
            "  0.21512503  0.09982703  0.04165609  0.01941373  0.00864927  0.02834869\n",
            "  0.06481175  0.24282919  0.15441967  0.14597598  0.20287954 -0.00906384\n",
            "  0.1048823   0.18415892  0.22216095  0.1107827   0.10252299  0.12074375\n",
            "  0.19847573 -0.01120149  0.01606237  0.08141158  0.04609985 -0.13146546\n",
            "  0.19073341  0.01151288  0.07400231 -0.13472038 -0.05436273  0.18164784\n",
            "  0.12507008 -0.06382252  0.01336091 -2.72781315  0.07383244  0.29235341\n",
            "  0.12971612 -0.14898473]\n"
          ],
          "name": "stdout"
        },
        {
          "output_type": "execute_result",
          "data": {
            "text/plain": [
              "3.880769742794788e-06"
            ]
          },
          "metadata": {
            "tags": []
          },
          "execution_count": 155
        }
      ]
    },
    {
      "cell_type": "code",
      "metadata": {
        "id": "8Yp130ELjC_o",
        "colab_type": "code",
        "outputId": "067349e1-28ca-4ad3-9b80-3374872cb73a",
        "colab": {
          "base_uri": "https://localhost:8080/",
          "height": 72
        }
      },
      "source": [
        "print('Error w: ', utils.compute_error(w@S@w,w_ast@S@w_ast))\n",
        "print('Error r: ', utils.compute_error(w@mu, r))\n",
        "print('Error suma de pesos: ', abs(((sum(w)-1)/(sum(w)))))"
      ],
      "execution_count": 0,
      "outputs": [
        {
          "output_type": "stream",
          "text": [
            "Error w:  3.880754682479437e-06\n",
            "Error r:  4.440892098500624e-16\n",
            "Error suma de pesos:  1.5543122344752168e-15\n"
          ],
          "name": "stdout"
        }
      ]
    },
    {
      "cell_type": "code",
      "metadata": {
        "id": "5JBtIczzjC7D",
        "colab_type": "code",
        "colab": {}
      },
      "source": [
        "#Newton\n",
        "tol=1e-8\n",
        "tol_backtracking=1e-14\n",
        "p_ast=fo(w_ast)\n",
        "maxiter=500"
      ],
      "execution_count": 0,
      "outputs": []
    },
    {
      "cell_type": "code",
      "metadata": {
        "id": "wwPg_lzwjC2Q",
        "colab_type": "code",
        "outputId": "16b06646-b3c9-4f68-94c2-3e77f3cba81f",
        "colab": {
          "base_uri": "https://localhost:8080/",
          "height": 311
        }
      },
      "source": [
        "[w,total_of_iterations,Err_plot,x_plot]=opt.Newtons_method_feasible_init_point(fo,A, w_0,tol, tol_backtracking, w_ast, p_ast, maxiter)\n",
        "#Error\n",
        "Err_plot[-1]"
      ],
      "execution_count": 0,
      "outputs": [
        {
          "output_type": "stream",
          "text": [
            "I\tNormgf \tNewton Decrement\tError x_ast\tError p_ast\tline search\tCondHf\n",
            "0\t0.0079\t0.0314\t3.348\t126.5304\t---\t\t4097.1375\n",
            "1\t0.0079\t0.0002\t2.982\t0.6798\t1\t4097.1375\n",
            "2\t0.0079\t0.0\t0.2817\t0.0046\t1\t4097.1375\n",
            "3\t0.0079\t0.0\t0.0097\t0.0\t1\t4097.1375\n",
            "Error of x with respect to x_ast: 0.009735388725341918\n",
            "Approximate solution: [ 0.17592274 -0.02787265  0.20365926 -0.14000254  0.02052592  0.04005779\n",
            "  0.11104618 -0.00835434  0.05850248  0.35042404 -0.00984593  0.00390479\n",
            "  0.21512503  0.09982703  0.04165609  0.01941373  0.00864927  0.02834869\n",
            "  0.06481175  0.24282919  0.15441967  0.14597598  0.20287954 -0.00906384\n",
            "  0.1048823   0.18415892  0.22216095  0.1107827   0.10252299  0.12074375\n",
            "  0.19847573 -0.01120149  0.01606237  0.08141158  0.04609985 -0.13146546\n",
            "  0.19073341  0.01151288  0.07400231 -0.13472038 -0.05436273  0.18164784\n",
            "  0.12507008 -0.06382252  0.01336091 -2.72781315  0.07383244  0.29235341\n",
            "  0.12971612 -0.14898473]\n"
          ],
          "name": "stdout"
        },
        {
          "output_type": "execute_result",
          "data": {
            "text/plain": [
              "3.880769742794788e-06"
            ]
          },
          "metadata": {
            "tags": []
          },
          "execution_count": 158
        }
      ]
    },
    {
      "cell_type": "code",
      "metadata": {
        "id": "kiBwsPuVjCiF",
        "colab_type": "code",
        "outputId": "197e8b07-b008-4a15-e153-89556542d86b",
        "colab": {
          "base_uri": "https://localhost:8080/",
          "height": 72
        }
      },
      "source": [
        "print('Error w: ', utils.compute_error(w@S@w,w_ast@S@w_ast))\n",
        "print('Error r: ', utils.compute_error(w@mu, r))\n",
        "print('Error suma de pesos: ', abs(((sum(w)-1)/(sum(w)))))"
      ],
      "execution_count": 0,
      "outputs": [
        {
          "output_type": "stream",
          "text": [
            "Error w:  3.880754682479437e-06\n",
            "Error r:  4.440892098500624e-16\n",
            "Error suma de pesos:  1.5543122344752168e-15\n"
          ],
          "name": "stdout"
        }
      ]
    },
    {
      "cell_type": "code",
      "metadata": {
        "id": "tj1nx7VNjCeV",
        "colab_type": "code",
        "colab": {}
      },
      "source": [
        "#Newton\n",
        "tol=1e-10\n",
        "tol_backtracking=1e-14\n",
        "p_ast=fo(w_ast)\n",
        "maxiter=500"
      ],
      "execution_count": 0,
      "outputs": []
    },
    {
      "cell_type": "code",
      "metadata": {
        "id": "YP76iuuvjCab",
        "colab_type": "code",
        "outputId": "8d8573d7-ed32-452a-eb24-ca655284ae6c",
        "colab": {
          "base_uri": "https://localhost:8080/",
          "height": 329
        }
      },
      "source": [
        "[w,total_of_iterations,Err_plot,x_plot]=opt.Newtons_method_feasible_init_point(fo,A, w_0,tol, tol_backtracking, w_ast, p_ast, maxiter)\n",
        "#Error\n",
        "Err_plot[-1]"
      ],
      "execution_count": 0,
      "outputs": [
        {
          "output_type": "stream",
          "text": [
            "I\tNormgf \tNewton Decrement\tError x_ast\tError p_ast\tline search\tCondHf\n",
            "0\t0.0079\t0.0314\t3.348\t126.5304\t---\t\t4097.1375\n",
            "1\t0.0079\t0.0002\t2.982\t0.6798\t1\t4097.1375\n",
            "2\t0.0079\t0.0\t0.2817\t0.0046\t1\t4097.1375\n",
            "3\t0.0079\t0.0\t0.0097\t0.0\t1\t4097.1375\n",
            "4\t0.0079\t0.0\t0.0002\t0.0\t1\t4097.1375\n",
            "Error of x with respect to x_ast: 0.00015119935653582983\n",
            "Approximate solution: [ 0.17591928 -0.02785277  0.20370194 -0.13990762  0.02050847  0.04010047\n",
            "  0.11091511 -0.00813046  0.0586331   0.35044576 -0.00991822  0.00389268\n",
            "  0.21509838  0.09959806  0.04166895  0.01927614  0.0086735   0.02833636\n",
            "  0.06464815  0.24287541  0.15470062  0.1456199   0.20270884 -0.0089714\n",
            "  0.10486017  0.18402549  0.2220907   0.11059643  0.10266501  0.12077364\n",
            "  0.19857703 -0.01196864  0.01620547  0.08120346  0.04627334 -0.13144992\n",
            "  0.19074714  0.01151055  0.07406145 -0.13464727 -0.05419604  0.18143787\n",
            "  0.12517371 -0.06390236  0.01334201 -2.70720578  0.05442419  0.29226417\n",
            "  0.12957586 -0.14897831]\n"
          ],
          "name": "stdout"
        },
        {
          "output_type": "execute_result",
          "data": {
            "text/plain": [
              "1.107005273044982e-09"
            ]
          },
          "metadata": {
            "tags": []
          },
          "execution_count": 161
        }
      ]
    },
    {
      "cell_type": "code",
      "metadata": {
        "id": "gFxfheTyjCWe",
        "colab_type": "code",
        "outputId": "9f444964-291d-44c2-f48e-29d5d4eb0f6b",
        "colab": {
          "base_uri": "https://localhost:8080/",
          "height": 72
        }
      },
      "source": [
        "print('Error w: ', utils.compute_error(w@S@w,w_ast@S@w_ast))\n",
        "print('Error r: ', utils.compute_error(w@mu, r))\n",
        "print('Error suma de pesos: ', abs(((sum(w)-1)/(sum(w)))))"
      ],
      "execution_count": 0,
      "outputs": [
        {
          "output_type": "stream",
          "text": [
            "Error w:  1.1070052718195214e-09\n",
            "Error r:  4.440892098500624e-16\n",
            "Error suma de pesos:  8.881784197001244e-16\n"
          ],
          "name": "stdout"
        }
      ]
    },
    {
      "cell_type": "code",
      "metadata": {
        "id": "vS7aKK9LjCTG",
        "colab_type": "code",
        "colab": {}
      },
      "source": [
        "#Newton\n",
        "tol=1e-14\n",
        "tol_backtracking=1e-14\n",
        "p_ast=fo(w_ast)\n",
        "maxiter=500"
      ],
      "execution_count": 0,
      "outputs": []
    },
    {
      "cell_type": "code",
      "metadata": {
        "id": "L_f-5y6kjCPz",
        "colab_type": "code",
        "outputId": "e0e9f841-d657-4fee-ad00-a30f9127465a",
        "colab": {
          "base_uri": "https://localhost:8080/",
          "height": 348
        }
      },
      "source": [
        "[w,total_of_iterations,Err_plot,x_plot]=opt.Newtons_method_feasible_init_point(fo,A, w_0,tol, tol_backtracking, w_ast, p_ast, maxiter)\n",
        "#Error\n",
        "Err_plot[-1]"
      ],
      "execution_count": 0,
      "outputs": [
        {
          "output_type": "stream",
          "text": [
            "I\tNormgf \tNewton Decrement\tError x_ast\tError p_ast\tline search\tCondHf\n",
            "0\t0.0079\t0.0314\t3.348\t126.5304\t---\t\t4097.1375\n",
            "1\t0.0079\t0.0002\t2.982\t0.6798\t1\t4097.1375\n",
            "2\t0.0079\t0.0\t0.2817\t0.0046\t1\t4097.1375\n",
            "3\t0.0079\t0.0\t0.0097\t0.0\t1\t4097.1375\n",
            "4\t0.0079\t0.0\t0.0002\t0.0\t1\t4097.1375\n",
            "5\t0.0079\t0.0\t0.0\t0.0\t1\t4097.1375\n",
            "Error of x with respect to x_ast: 6.728529011679431e-07\n",
            "Approximate solution: [ 0.17592052 -0.02785289  0.20369578 -0.1399008   0.02050819  0.04010059\n",
            "  0.11092015 -0.00813433  0.05863629  0.35044629 -0.00991737  0.00389108\n",
            "  0.21510327  0.09959611  0.04166791  0.01927784  0.00867828  0.02833838\n",
            "  0.06465227  0.24287752  0.15469797  0.14562463  0.20271041 -0.00897838\n",
            "  0.10486785  0.18403086  0.22208703  0.11060041  0.10267043  0.12078294\n",
            "  0.19857084 -0.01195184  0.01620285  0.0812043   0.04626941 -0.13144836\n",
            "  0.19074722  0.01151135  0.07406065 -0.13464873 -0.05419024  0.18144179\n",
            "  0.12517505 -0.06390294  0.01334568 -2.70754672  0.05469218  0.29226139\n",
            "  0.12957546 -0.14896855]\n"
          ],
          "name": "stdout"
        },
        {
          "output_type": "execute_result",
          "data": {
            "text/plain": [
              "2.0584956207058689e-13"
            ]
          },
          "metadata": {
            "tags": []
          },
          "execution_count": 164
        }
      ]
    },
    {
      "cell_type": "code",
      "metadata": {
        "id": "NnE3xhkhjCMC",
        "colab_type": "code",
        "outputId": "fe9f2258-0c50-4aec-b926-e1dd3aebfd83",
        "colab": {
          "base_uri": "https://localhost:8080/",
          "height": 72
        }
      },
      "source": [
        "print('Error w: ', utils.compute_error(w@S@w,w_ast@S@w_ast))\n",
        "print('Error r: ', utils.compute_error(w@mu, r))\n",
        "print('Error suma de pesos: ', abs(((sum(w)-1)/(sum(w)))))"
      ],
      "execution_count": 0,
      "outputs": [
        {
          "output_type": "stream",
          "text": [
            "Error w:  2.058495620705445e-13\n",
            "Error r:  4.440892098500624e-16\n",
            "Error suma de pesos:  1.1102230246251554e-15\n"
          ],
          "name": "stdout"
        }
      ]
    },
    {
      "cell_type": "code",
      "metadata": {
        "id": "ByHUx0mjjfpK",
        "colab_type": "code",
        "colab": {}
      },
      "source": [
        "#Newton\n",
        "tol=1e-16\n",
        "tol_backtracking=1e-15\n",
        "p_ast=fo(w_ast)\n",
        "maxiter=500"
      ],
      "execution_count": 0,
      "outputs": []
    },
    {
      "cell_type": "code",
      "metadata": {
        "id": "KXUkabjYjf6P",
        "colab_type": "code",
        "outputId": "24c3c1a6-48a3-47a9-f7bc-0b8b8617eee0",
        "colab": {
          "base_uri": "https://localhost:8080/",
          "height": 348
        }
      },
      "source": [
        "[w,total_of_iterations,Err_plot,x_plot]=opt.Newtons_method_feasible_init_point(fo,A, w_0,tol, tol_backtracking, w_ast, p_ast, maxiter)\n",
        "#Error\n",
        "Err_plot[-1]"
      ],
      "execution_count": 0,
      "outputs": [
        {
          "output_type": "stream",
          "text": [
            "I\tNormgf \tNewton Decrement\tError x_ast\tError p_ast\tline search\tCondHf\n",
            "0\t0.0079\t0.0314\t3.348\t126.5304\t---\t\t4097.1375\n",
            "1\t0.0079\t0.0002\t2.982\t0.6798\t1\t4097.1375\n",
            "2\t0.0079\t0.0\t0.2817\t0.0046\t1\t4097.1375\n",
            "3\t0.0079\t0.0\t0.0097\t0.0\t1\t4097.1375\n",
            "4\t0.0079\t0.0\t0.0002\t0.0\t1\t4097.1375\n",
            "5\t0.0079\t0.0\t0.0\t0.0\t1\t4097.1375\n",
            "Error of x with respect to x_ast: 6.728529011679431e-07\n",
            "Approximate solution: [ 0.17592052 -0.02785289  0.20369578 -0.1399008   0.02050819  0.04010059\n",
            "  0.11092015 -0.00813433  0.05863629  0.35044629 -0.00991737  0.00389108\n",
            "  0.21510327  0.09959611  0.04166791  0.01927784  0.00867828  0.02833838\n",
            "  0.06465227  0.24287752  0.15469797  0.14562463  0.20271041 -0.00897838\n",
            "  0.10486785  0.18403086  0.22208703  0.11060041  0.10267043  0.12078294\n",
            "  0.19857084 -0.01195184  0.01620285  0.0812043   0.04626941 -0.13144836\n",
            "  0.19074722  0.01151135  0.07406065 -0.13464873 -0.05419024  0.18144179\n",
            "  0.12517505 -0.06390294  0.01334568 -2.70754672  0.05469218  0.29226139\n",
            "  0.12957546 -0.14896855]\n"
          ],
          "name": "stdout"
        },
        {
          "output_type": "execute_result",
          "data": {
            "text/plain": [
              "2.0584956207058689e-13"
            ]
          },
          "metadata": {
            "tags": []
          },
          "execution_count": 167
        }
      ]
    },
    {
      "cell_type": "code",
      "metadata": {
        "id": "AsOLYpxzjf0t",
        "colab_type": "code",
        "outputId": "63d2252e-235b-4906-b7ea-c3a7e65d4c51",
        "colab": {
          "base_uri": "https://localhost:8080/",
          "height": 72
        }
      },
      "source": [
        "print('Error w: ', utils.compute_error(w@S@w,w_ast@S@w_ast))\n",
        "print('Error r: ', utils.compute_error(w@mu, r))\n",
        "print('Error suma de pesos: ', abs(((sum(w)-1)/(sum(w)))))"
      ],
      "execution_count": 0,
      "outputs": [
        {
          "output_type": "stream",
          "text": [
            "Error w:  2.058495620705445e-13\n",
            "Error r:  4.440892098500624e-16\n",
            "Error suma de pesos:  1.1102230246251554e-15\n"
          ],
          "name": "stdout"
        }
      ]
    },
    {
      "cell_type": "markdown",
      "metadata": {
        "id": "UurUwYhvl6Js",
        "colab_type": "text"
      },
      "source": [
        "## Método de Newton usando funciones simbólicas\n"
      ]
    },
    {
      "cell_type": "code",
      "metadata": {
        "id": "8UMpBUq-mF8b",
        "colab_type": "code",
        "colab": {}
      },
      "source": [
        ""
      ],
      "execution_count": 0,
      "outputs": []
    },
    {
      "cell_type": "code",
      "metadata": {
        "id": "uV_l-5HZmF4p",
        "colab_type": "code",
        "colab": {}
      },
      "source": [
        ""
      ],
      "execution_count": 0,
      "outputs": []
    },
    {
      "cell_type": "code",
      "metadata": {
        "id": "2KFtofn6mF0H",
        "colab_type": "code",
        "colab": {}
      },
      "source": [
        ""
      ],
      "execution_count": 0,
      "outputs": []
    },
    {
      "cell_type": "code",
      "metadata": {
        "id": "3KjicdbimFwQ",
        "colab_type": "code",
        "colab": {}
      },
      "source": [
        ""
      ],
      "execution_count": 0,
      "outputs": []
    },
    {
      "cell_type": "code",
      "metadata": {
        "id": "AN5ddQOGmFsO",
        "colab_type": "code",
        "colab": {}
      },
      "source": [
        ""
      ],
      "execution_count": 0,
      "outputs": []
    },
    {
      "cell_type": "code",
      "metadata": {
        "id": "Xe8YR0KWmFnU",
        "colab_type": "code",
        "colab": {}
      },
      "source": [
        ""
      ],
      "execution_count": 0,
      "outputs": []
    },
    {
      "cell_type": "code",
      "metadata": {
        "id": "lViGEUyVmFhS",
        "colab_type": "code",
        "colab": {}
      },
      "source": [
        ""
      ],
      "execution_count": 0,
      "outputs": []
    },
    {
      "cell_type": "markdown",
      "metadata": {
        "id": "Vw8N7sBSjn2a",
        "colab_type": "text"
      },
      "source": [
        "# Hallazgos\n",
        "\n",
        "El código funciona de manera correcta para distintos niveles de tolerancia, iteraciones y rendimientos r.\n",
        "\n",
        "Las funciones generan unos valores con una exactitud de hasta 13 dígitos correctos. \n",
        "\n"
      ]
    },
    {
      "cell_type": "markdown",
      "metadata": {
        "id": "0nZmN7E2j5Ik",
        "colab_type": "text"
      },
      "source": [
        "# Resultados "
      ]
    },
    {
      "cell_type": "code",
      "metadata": {
        "id": "n2RU8n5ljfvv",
        "colab_type": "code",
        "colab": {}
      },
      "source": [
        ""
      ],
      "execution_count": 0,
      "outputs": []
    },
    {
      "cell_type": "code",
      "metadata": {
        "id": "ebNEtFoFjCH3",
        "colab_type": "code",
        "colab": {}
      },
      "source": [
        ""
      ],
      "execution_count": 0,
      "outputs": []
    },
    {
      "cell_type": "code",
      "metadata": {
        "id": "Sd4G9yWvcNPD",
        "colab_type": "code",
        "colab": {}
      },
      "source": [
        "r = 0.3\n",
        "w_ast = mkv.markowitz(r,mu,S)\n",
        "n = mu.shape[0]\n",
        "#Matriz A de restricciones\n",
        "A = cp.concatenate((mu,cp.ones(n))).reshape(2,n)\n",
        "#Vector b\n",
        "b = cp.array([r,1])\n",
        "#Punto inicial\n",
        "w_0 = utils.feasible_markowitz(r,mu)"
      ],
      "execution_count": 0,
      "outputs": []
    },
    {
      "cell_type": "code",
      "metadata": {
        "id": "zUjf5coJcnr8",
        "colab_type": "code",
        "colab": {}
      },
      "source": [
        "#Newton\n",
        "tol=1e-8\n",
        "tol_backtracking=1e-14\n",
        "p_ast=fo(w_ast)\n",
        "maxiter=50\n"
      ],
      "execution_count": 0,
      "outputs": []
    },
    {
      "cell_type": "code",
      "metadata": {
        "id": "wZG44jKncZIm",
        "colab_type": "code",
        "outputId": "bc3a0406-fad0-4f49-a05a-4d6621441457",
        "colab": {
          "base_uri": "https://localhost:8080/",
          "height": 366
        }
      },
      "source": [
        "[w,total_of_iterations,Err_plot,x_plot]=opt.Newtons_method_feasible_init_point(fo,A, w_0,tol, tol_backtracking, w_ast, p_ast, maxiter)\n",
        "#Error\n",
        "Err_plot[-1]"
      ],
      "execution_count": 0,
      "outputs": [
        {
          "output_type": "stream",
          "text": [
            "I\tNormgf \tNewton Decrement\tError x_ast\tError p_ast\tline search\tCondHf\n",
            "0\t0.0025\t0.0021\t1.3834\t14.9538\t---\t\t10833.0647\n",
            "1\t0.0025\t0.0\t0.0952\t0.0006\t1\t10833.0647\n",
            "2\t0.0025\t0.0\t0.0009\t0.0\t1\t10833.0647\n",
            "Error of x with respect to x_ast: 0.0009264514312908206\n",
            "Approximate solution: [ 1.40214529e-01 -1.35978646e-02  1.10342203e-01 -4.37629688e-02\n",
            "  4.34481638e-02  6.25194998e-02  6.23053196e-02  3.43246639e-02\n",
            "  1.49933044e-02  2.18640943e-01 -1.88408397e-03  5.28946346e-04\n",
            "  1.90524989e-01  8.92946732e-02  3.28308824e-03  1.04742689e-02\n",
            "  6.47128709e-03  3.10463536e-02  5.03316129e-02  1.51109232e-01\n",
            "  8.36292265e-02  1.09266126e-01  7.70736027e-02  3.71989934e-02\n",
            "  7.11377668e-02  1.15367356e-01  1.14125980e-01  4.23057064e-02\n",
            "  5.81986153e-02  4.24170188e-02  1.85545535e-01 -3.65085609e-02\n",
            "  3.71677992e-02  7.24730267e-02 -3.16458803e-03 -8.39138211e-02\n",
            "  1.36152098e-01  2.41561648e-02  4.86535869e-02 -8.05813009e-02\n",
            " -4.61480746e-02  9.42917043e-02  8.09904372e-02 -2.07954306e-02\n",
            "  7.98583272e-03 -1.94037384e+00  3.29860868e-01  2.32946475e-01\n",
            "  1.10150910e-01 -6.02173775e-02]\n"
          ],
          "name": "stdout"
        },
        {
          "output_type": "execute_result",
          "data": {
            "text/plain": [
              "3.6329669678523636e-08"
            ]
          },
          "metadata": {
            "tags": []
          },
          "execution_count": 105
        }
      ]
    },
    {
      "cell_type": "code",
      "metadata": {
        "id": "FVn337AZdWvn",
        "colab_type": "code",
        "colab": {}
      },
      "source": [
        "#Newton\n",
        "tol=1e-8\n",
        "tol_backtracking=1e-14\n",
        "p_ast=fo(w_ast)\n",
        "maxiter=500\n"
      ],
      "execution_count": 0,
      "outputs": []
    },
    {
      "cell_type": "code",
      "metadata": {
        "id": "taGRA3Bjdcmp",
        "colab_type": "code",
        "outputId": "3f65e474-a33d-43ee-8945-5f0b7aab325e",
        "colab": {
          "base_uri": "https://localhost:8080/",
          "height": 366
        }
      },
      "source": [
        "[w,total_of_iterations,Err_plot,x_plot]=opt.Newtons_method_feasible_init_point(fo,A, w_0,tol, tol_backtracking, w_ast, p_ast, maxiter)\n",
        "#Error\n",
        "Err_plot[-1]"
      ],
      "execution_count": 0,
      "outputs": [
        {
          "output_type": "stream",
          "text": [
            "I\tNormgf \tNewton Decrement\tError x_ast\tError p_ast\tline search\tCondHf\n",
            "0\t0.0025\t0.0021\t1.3834\t14.9538\t---\t\t10833.0647\n",
            "1\t0.0025\t0.0\t0.0952\t0.0006\t1\t10833.0647\n",
            "2\t0.0025\t0.0\t0.0009\t0.0\t1\t10833.0647\n",
            "Error of x with respect to x_ast: 0.0009264514312908206\n",
            "Approximate solution: [ 1.40214529e-01 -1.35978646e-02  1.10342203e-01 -4.37629688e-02\n",
            "  4.34481638e-02  6.25194998e-02  6.23053196e-02  3.43246639e-02\n",
            "  1.49933044e-02  2.18640943e-01 -1.88408397e-03  5.28946346e-04\n",
            "  1.90524989e-01  8.92946732e-02  3.28308824e-03  1.04742689e-02\n",
            "  6.47128709e-03  3.10463536e-02  5.03316129e-02  1.51109232e-01\n",
            "  8.36292265e-02  1.09266126e-01  7.70736027e-02  3.71989934e-02\n",
            "  7.11377668e-02  1.15367356e-01  1.14125980e-01  4.23057064e-02\n",
            "  5.81986153e-02  4.24170188e-02  1.85545535e-01 -3.65085609e-02\n",
            "  3.71677992e-02  7.24730267e-02 -3.16458803e-03 -8.39138211e-02\n",
            "  1.36152098e-01  2.41561648e-02  4.86535869e-02 -8.05813009e-02\n",
            " -4.61480746e-02  9.42917043e-02  8.09904372e-02 -2.07954306e-02\n",
            "  7.98583272e-03 -1.94037384e+00  3.29860868e-01  2.32946475e-01\n",
            "  1.10150910e-01 -6.02173775e-02]\n"
          ],
          "name": "stdout"
        },
        {
          "output_type": "execute_result",
          "data": {
            "text/plain": [
              "3.6329669678523636e-08"
            ]
          },
          "metadata": {
            "tags": []
          },
          "execution_count": 107
        }
      ]
    },
    {
      "cell_type": "code",
      "metadata": {
        "id": "3uLtrStTdfcH",
        "colab_type": "code",
        "colab": {}
      },
      "source": [
        "#Newton\n",
        "tol=1e-14\n",
        "tol_backtracking=1e-14\n",
        "p_ast=fo(w_ast)\n",
        "maxiter=500"
      ],
      "execution_count": 0,
      "outputs": []
    },
    {
      "cell_type": "code",
      "metadata": {
        "id": "yTOI24eidfii",
        "colab_type": "code",
        "outputId": "09487ae5-83a2-4964-af7e-9ccca576de10",
        "colab": {
          "base_uri": "https://localhost:8080/",
          "height": 384
        }
      },
      "source": [
        "[w,total_of_iterations,Err_plot,x_plot]=opt.Newtons_method_feasible_init_point(fo,A, w_0,tol, tol_backtracking, w_ast, p_ast, maxiter)\n",
        "#Error\n",
        "Err_plot[-1]"
      ],
      "execution_count": 0,
      "outputs": [
        {
          "output_type": "stream",
          "text": [
            "I\tNormgf \tNewton Decrement\tError x_ast\tError p_ast\tline search\tCondHf\n",
            "0\t0.0025\t0.0021\t1.3834\t14.9538\t---\t\t10833.0647\n",
            "1\t0.0025\t0.0\t0.0952\t0.0006\t1\t10833.0647\n",
            "2\t0.0025\t0.0\t0.0009\t0.0\t1\t10833.0647\n",
            "3\t0.0025\t0.0\t0.0\t0.0\t1\t10833.0647\n",
            "Error of x with respect to x_ast: 1.3312483485567576e-06\n",
            "Approximate solution: [ 1.40207439e-01 -1.35881195e-02  1.10340602e-01 -4.37791661e-02\n",
            "  4.34450279e-02  6.25287481e-02  6.23429655e-02  3.43328374e-02\n",
            "  1.50055433e-02  2.18632689e-01 -1.87368653e-03  5.28463589e-04\n",
            "  1.90508063e-01  8.93042717e-02  3.27681854e-03  1.04912283e-02\n",
            "  6.48286491e-03  3.10545150e-02  5.03437938e-02  1.51140538e-01\n",
            "  8.36218275e-02  1.09292640e-01  7.70769980e-02  3.72109498e-02\n",
            "  7.11397095e-02  1.15391539e-01  1.14129090e-01  4.23101917e-02\n",
            "  5.82056832e-02  4.24236015e-02  1.85527975e-01 -3.64909426e-02\n",
            "  3.71690877e-02  7.24600790e-02 -3.17248446e-03 -8.39242304e-02\n",
            "  1.36147032e-01  2.41482752e-02  4.86551473e-02 -8.05947862e-02\n",
            " -4.61601086e-02  9.42946500e-02  8.10036820e-02 -2.07991738e-02\n",
            "  7.98368669e-03 -1.94183667e+00  3.31096132e-01  2.32967156e-01\n",
            "  1.10169820e-01 -6.01719906e-02]\n"
          ],
          "name": "stdout"
        },
        {
          "output_type": "execute_result",
          "data": {
            "text/plain": [
              "1.5041258953619087e-12"
            ]
          },
          "metadata": {
            "tags": []
          },
          "execution_count": 109
        }
      ]
    },
    {
      "cell_type": "code",
      "metadata": {
        "id": "lT8Nqu4qdlvh",
        "colab_type": "code",
        "colab": {}
      },
      "source": [
        "#Newton\n",
        "tol=1e-14\n",
        "tol_backtracking=1e-14\n",
        "p_ast=fo(w_ast)\n",
        "maxiter=5000"
      ],
      "execution_count": 0,
      "outputs": []
    },
    {
      "cell_type": "code",
      "metadata": {
        "id": "HF-RXZOkdoyX",
        "colab_type": "code",
        "outputId": "40ae888a-1c35-4fb4-8f81-428b8bf07c9f",
        "colab": {
          "base_uri": "https://localhost:8080/",
          "height": 384
        }
      },
      "source": [
        "[w,total_of_iterations,Err_plot,x_plot]=opt.Newtons_method_feasible_init_point(fo,A, w_0,tol, tol_backtracking, w_ast, p_ast, maxiter)\n",
        "#Error\n",
        "Err_plot[-1]"
      ],
      "execution_count": 0,
      "outputs": [
        {
          "output_type": "stream",
          "text": [
            "I\tNormgf \tNewton Decrement\tError x_ast\tError p_ast\tline search\tCondHf\n",
            "0\t0.0025\t0.0021\t1.3834\t14.9538\t---\t\t10833.0647\n",
            "1\t0.0025\t0.0\t0.0952\t0.0006\t1\t10833.0647\n",
            "2\t0.0025\t0.0\t0.0009\t0.0\t1\t10833.0647\n",
            "3\t0.0025\t0.0\t0.0\t0.0\t1\t10833.0647\n",
            "Error of x with respect to x_ast: 1.3312483485567576e-06\n",
            "Approximate solution: [ 1.40207439e-01 -1.35881195e-02  1.10340602e-01 -4.37791661e-02\n",
            "  4.34450279e-02  6.25287481e-02  6.23429655e-02  3.43328374e-02\n",
            "  1.50055433e-02  2.18632689e-01 -1.87368653e-03  5.28463589e-04\n",
            "  1.90508063e-01  8.93042717e-02  3.27681854e-03  1.04912283e-02\n",
            "  6.48286491e-03  3.10545150e-02  5.03437938e-02  1.51140538e-01\n",
            "  8.36218275e-02  1.09292640e-01  7.70769980e-02  3.72109498e-02\n",
            "  7.11397095e-02  1.15391539e-01  1.14129090e-01  4.23101917e-02\n",
            "  5.82056832e-02  4.24236015e-02  1.85527975e-01 -3.64909426e-02\n",
            "  3.71690877e-02  7.24600790e-02 -3.17248446e-03 -8.39242304e-02\n",
            "  1.36147032e-01  2.41482752e-02  4.86551473e-02 -8.05947862e-02\n",
            " -4.61601086e-02  9.42946500e-02  8.10036820e-02 -2.07991738e-02\n",
            "  7.98368669e-03 -1.94183667e+00  3.31096132e-01  2.32967156e-01\n",
            "  1.10169820e-01 -6.01719906e-02]\n"
          ],
          "name": "stdout"
        },
        {
          "output_type": "execute_result",
          "data": {
            "text/plain": [
              "1.5041258953619087e-12"
            ]
          },
          "metadata": {
            "tags": []
          },
          "execution_count": 111
        }
      ]
    },
    {
      "cell_type": "code",
      "metadata": {
        "id": "DXo1bgg0eAGx",
        "colab_type": "code",
        "colab": {}
      },
      "source": [
        "#Newton\n",
        "tol=1e-16\n",
        "tol_backtracking=1e-16\n",
        "p_ast=fo(w_ast)\n",
        "maxiter=5000"
      ],
      "execution_count": 0,
      "outputs": []
    },
    {
      "cell_type": "code",
      "metadata": {
        "id": "l03OnNeieAN7",
        "colab_type": "code",
        "outputId": "2c8997c6-0e10-47da-88e8-7bf2240cf28c",
        "colab": {
          "base_uri": "https://localhost:8080/",
          "height": 384
        }
      },
      "source": [
        "[w,total_of_iterations,Err_plot,x_plot]=opt.Newtons_method_feasible_init_point(fo,A, w_0,tol, tol_backtracking, w_ast, p_ast, maxiter)\n",
        "#Error\n",
        "Err_plot[-1]"
      ],
      "execution_count": 0,
      "outputs": [
        {
          "output_type": "stream",
          "text": [
            "I\tNormgf \tNewton Decrement\tError x_ast\tError p_ast\tline search\tCondHf\n",
            "0\t0.0025\t0.0021\t1.3834\t14.9538\t---\t\t10833.0647\n",
            "1\t0.0025\t0.0\t0.0952\t0.0006\t1\t10833.0647\n",
            "2\t0.0025\t0.0\t0.0009\t0.0\t1\t10833.0647\n",
            "3\t0.0025\t0.0\t0.0\t0.0\t1\t10833.0647\n",
            "Error of x with respect to x_ast: 1.3312483485567576e-06\n",
            "Approximate solution: [ 1.40207439e-01 -1.35881195e-02  1.10340602e-01 -4.37791661e-02\n",
            "  4.34450279e-02  6.25287481e-02  6.23429655e-02  3.43328374e-02\n",
            "  1.50055433e-02  2.18632689e-01 -1.87368653e-03  5.28463589e-04\n",
            "  1.90508063e-01  8.93042717e-02  3.27681854e-03  1.04912283e-02\n",
            "  6.48286491e-03  3.10545150e-02  5.03437938e-02  1.51140538e-01\n",
            "  8.36218275e-02  1.09292640e-01  7.70769980e-02  3.72109498e-02\n",
            "  7.11397095e-02  1.15391539e-01  1.14129090e-01  4.23101917e-02\n",
            "  5.82056832e-02  4.24236015e-02  1.85527975e-01 -3.64909426e-02\n",
            "  3.71690877e-02  7.24600790e-02 -3.17248446e-03 -8.39242304e-02\n",
            "  1.36147032e-01  2.41482752e-02  4.86551473e-02 -8.05947862e-02\n",
            " -4.61601086e-02  9.42946500e-02  8.10036820e-02 -2.07991738e-02\n",
            "  7.98368669e-03 -1.94183667e+00  3.31096132e-01  2.32967156e-01\n",
            "  1.10169820e-01 -6.01719906e-02]\n"
          ],
          "name": "stdout"
        },
        {
          "output_type": "execute_result",
          "data": {
            "text/plain": [
              "1.5041258953619087e-12"
            ]
          },
          "metadata": {
            "tags": []
          },
          "execution_count": 113
        }
      ]
    },
    {
      "cell_type": "code",
      "metadata": {
        "id": "QbfC73qMfbv5",
        "colab_type": "code",
        "outputId": "8d0137fd-e6f9-4303-e17e-4830dbcb13f7",
        "colab": {
          "base_uri": "https://localhost:8080/",
          "height": 72
        }
      },
      "source": [
        "print('Error w: ', utils.compute_error(w@S@w,w_ast@S@w_ast))\n",
        "print('Error r: ', utils.compute_error(w@mu, r))\n",
        "print('Error suma de pesos: ', abs(((sum(w)-1)/(sum(w)))))"
      ],
      "execution_count": 0,
      "outputs": [
        {
          "output_type": "stream",
          "text": [
            "error w:  1.5041258953596462e-12\n",
            "error r;  1.8503717077085946e-16\n",
            "error suma de pesos:  4.440892098500624e-16\n"
          ],
          "name": "stdout"
        }
      ]
    },
    {
      "cell_type": "markdown",
      "metadata": {
        "id": "8g_-3QuwcLXM",
        "colab_type": "text"
      },
      "source": [
        "r\n"
      ]
    }
  ]
}